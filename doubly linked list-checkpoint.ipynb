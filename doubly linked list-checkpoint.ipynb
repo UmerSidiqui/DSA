{
 "cells": [
  {
   "cell_type": "code",
   "execution_count": 1,
   "id": "5dc377fb",
   "metadata": {},
   "outputs": [],
   "source": [
    "class Node():\n",
    "    def __init__(self,value):\n",
    "        self.data=value\n",
    "        self.next=None\n",
    "        self.prev=None"
   ]
  },
  {
   "cell_type": "code",
   "execution_count": 2,
   "id": "4e333d87",
   "metadata": {},
   "outputs": [],
   "source": [
    "class d_linked_list():\n",
    "    def __init__(self):\n",
    "        self.head=None\n",
    "        self.tail=None\n",
    "        self.n=0\n",
    "        \n",
    "    def insert_from_head(self,value):\n",
    "        self.n+=1\n",
    "        if self.head==None:\n",
    "            NN=Node(value)\n",
    "            self.head=NN\n",
    "            self.tail=self.head\n",
    "        else:\n",
    "            NN=Node(value)\n",
    "            NN.next=self.head\n",
    "            self.head.prev=NN\n",
    "            self.head=NN\n",
    "    \n",
    "    \n",
    "    def insert_from_tail(self,value):\n",
    "        self.n+=1\n",
    "        if self.head==None:\n",
    "            NN=Node(value)\n",
    "            self.head=NN\n",
    "            self.tail=self.head\n",
    "        else:\n",
    "#             temp=self.head\n",
    "#             while temp.next!=None:\n",
    "#                 temp=temp.next\n",
    "#             NN=Node(value)\n",
    "#             temp.next=NN\n",
    "            NN=Node(value)\n",
    "            self.tail.next=NN\n",
    "            NN.prev=self.tail\n",
    "            self.tail=NN\n",
    "    def insert_from_middle(self,value,index):\n",
    "        \n",
    "        if index==self.n-1:\n",
    "            self.insert_from_tail(value)\n",
    "        elif index<self.n:\n",
    "            self.n+=1\n",
    "            temp=self.head\n",
    "            for i in range(index):\n",
    "                temp=temp.next\n",
    "\n",
    "            NN=Node(value)\n",
    "            NN.next=temp.next\n",
    "            temp.next.prev=NN\n",
    "            temp.next=NN\n",
    "            NN.prev=temp\n",
    "        else:\n",
    "            return\"index not found\"\n",
    "    \n",
    "    \n",
    "    def traverse_from_head(self):\n",
    "        if self.head==None:\n",
    "            return \"empty list\"\n",
    "        else:\n",
    "            temp=self.head\n",
    "            while temp!=None:\n",
    "                print(temp.data,end=\" \")\n",
    "                temp=temp.next\n",
    "    def traverse_from_tail(self):\n",
    "        if self.head==None:\n",
    "            return \"empty list\"\n",
    "        else:\n",
    "            temp=self.tail\n",
    "            while temp!=None:\n",
    "                print(temp.data,end=\" \")\n",
    "                temp=temp.prev\n",
    "                \n",
    "    def size(self):\n",
    "        return self.n\n",
    "    \n",
    "    def delete_head(self):\n",
    "        if self.head==None:\n",
    "            return \"empty list\"\n",
    "        elif self.head.next==None:\n",
    "            self.n-=1\n",
    "            print(self.head.data)\n",
    "            self.head=None\n",
    "            self.tail=None\n",
    "        else:\n",
    "            self.n-=1\n",
    "            print(self.head.data)\n",
    "            self.head=self.head.next\n",
    "            self.head.prev=None\n",
    "            \n",
    "    def delete_tail(self):\n",
    "        if self.head==None:\n",
    "            return \"empty list\"\n",
    "        if self.n==1:\n",
    "            self.delete_head()\n",
    "        else:\n",
    "#             temp=self.head\n",
    "#             while temp.next.next!=None: #     for i in range(self.n-2):\n",
    "#                 temp=temp.next\n",
    "#             print(temp.next.data)\n",
    "#             temp.next=None\n",
    "            self.tail=self.tail.prev\n",
    "            self.tail.next=None\n",
    "            self.n-=1\n",
    "            \n",
    "            \n",
    "    def delete_by_value(self,value):\n",
    "        if self.head.data==value:\n",
    "            self.delete_head()\n",
    "            return\n",
    "        elif self.tail.data==value:\n",
    "            self.delete_tail()\n",
    "            return\n",
    "        if self.head==None:\n",
    "            return\"empty list\"\n",
    "        temp=self.head\n",
    "        while temp.next!=None:\n",
    "            if temp.next.data==value:\n",
    "                break\n",
    "            temp=temp.next\n",
    "        if temp.next==None:\n",
    "            return\"value not found\"\n",
    "        else:\n",
    "            temp.next=temp.next.next\n",
    "            temp.next.prev=temp\n",
    "            self.n-=1\n",
    "\n",
    "    def delete_by_value_all(self,value):\n",
    "        if self.head==None:\n",
    "            return \"empty list\"\n",
    "        else:\n",
    "            temp=self.head\n",
    "            c=0\n",
    "            while temp!=None:\n",
    "                if temp.data==value:\n",
    "                    c+=1\n",
    "                temp=temp.next\n",
    "                \n",
    "            for i in range(c):\n",
    "                self.delete_by_value(value)\n",
    "                \n",
    "                \n",
    "    def search_by_index(self,index):\n",
    "        if self.head==None:\n",
    "            return\"empty list\"\n",
    "        else:\n",
    "            temp=self.head\n",
    "            for i in range(index):\n",
    "                temp=temp.next\n",
    "                if temp==None:\n",
    "                    break\n",
    "            if temp==None:\n",
    "                return \"not found\"\n",
    "            else:\n",
    "                return temp.data\n",
    "    def __getitem__(self,index):\n",
    "        return self.search_by_index(index)\n",
    "    \n",
    "    \n",
    "    def serch_by_value(self,value):\n",
    "        if self.head==None:\n",
    "            return\"empty list\"\n",
    "        else:\n",
    "            c=0\n",
    "            temp=self.head\n",
    "            while temp!=None:\n",
    "                if temp.data==value:\n",
    "                    break\n",
    "                temp=temp.next\n",
    "                c+=1\n",
    "            if temp==None:\n",
    "                return \"not found\"\n",
    "            else:\n",
    "                return c\n",
    "    def max_number(self):\n",
    "        if self.head==None:\n",
    "            return \"empty list\"\n",
    "        else:\n",
    "            temp=self.head\n",
    "            a=temp.data\n",
    "            while temp.next!=None:\n",
    "                if a<temp.next.data:\n",
    "                    a=temp.next.data\n",
    "                \n",
    "                temp=temp.next\n",
    "            return a\n",
    "    def replace_max(self,value):\n",
    "        if self.head==None:\n",
    "            return \"empty list\"\n",
    "        else:\n",
    "            temp=self.head\n",
    "            a=temp\n",
    "            while temp.next!=None:\n",
    "                if a.data<temp.next.data:\n",
    "                    a=temp.next\n",
    "                temp=temp.next\n",
    "            b=self.serch_by_value(a.data)\n",
    "            self.insert_from_middle(value,b)\n",
    "            self.delete_by_value(a.data)\n",
    "    \n",
    "    def sum_odd_nodes(self):\n",
    "        if self.head==None or self.head.next==None:\n",
    "            return \"not possible\"\n",
    "        else:\n",
    "            temp=self.head\n",
    "            a=0\n",
    "            c=0\n",
    "            while temp!=None:\n",
    "                if c%2!=0:\n",
    "                    a+=temp.data\n",
    "                temp=temp.next\n",
    "                c+=1\n",
    "            return a\n",
    "#     def inplace_reversal(self):\n",
    "#         if self.head==None or self.head.next==None:\n",
    "#             return \"only one node\"\n",
    "#         else:\n",
    "#             prev_node=None\n",
    "#             curr_node=self.head\n",
    "#             while curr_node!=None:\n",
    "#                 next_node=curr_node.next\n",
    "#                 curr_node.next=prev_node\n",
    "#                 prev_node=curr_node\n",
    "#                 curr_node=next_node\n",
    "#             self.head=prev_node\n",
    "#     def stringcompiler(self):\n",
    "#         temp=self.head\n",
    "#         while temp!=None:\n",
    "            \n",
    "#             if temp.data==\"*\" or temp.data==\"/\":\n",
    "#                 temp.data=' '\n",
    "#                 if temp.next.data==\"*\"  or temp.next.data==\"/\":\n",
    "#                     temp.next.next.data=chr(ord(temp.next.next.data)-32)\n",
    "#                     temp.next=temp.next.next\n",
    "                    \n",
    "                \n",
    "                    \n",
    "#             temp=temp.next"
   ]
  },
  {
   "cell_type": "code",
   "execution_count": 3,
   "id": "6dc8d53a",
   "metadata": {},
   "outputs": [],
   "source": [
    "l=d_linked_list()"
   ]
  },
  {
   "cell_type": "code",
   "execution_count": 4,
   "id": "10f4626b",
   "metadata": {},
   "outputs": [],
   "source": [
    "l.insert_from_head(10)\n",
    "l.insert_from_head(9)\n",
    "l.insert_from_head(8)\n",
    "l.insert_from_head(6)\n",
    "l.insert_from_head(3)\n",
    "l.insert_from_head(11)\n",
    "l.insert_from_tail(111)\n",
    "\n",
    "l.insert_from_head(2)\n",
    "l.insert_from_head(0)\n",
    "l.insert_from_tail(11)\n",
    "l.insert_from_tail(11)\n"
   ]
  },
  {
   "cell_type": "code",
   "execution_count": 5,
   "id": "ba8cc578",
   "metadata": {},
   "outputs": [
    {
     "name": "stdout",
     "output_type": "stream",
     "text": [
      "0 2 11 3 6 8 9 10 111 11 11 "
     ]
    }
   ],
   "source": [
    "l.traverse_from_head()"
   ]
  },
  {
   "cell_type": "code",
   "execution_count": 6,
   "id": "8457b73a",
   "metadata": {},
   "outputs": [
    {
     "name": "stdout",
     "output_type": "stream",
     "text": [
      "11 11 111 10 9 8 6 3 11 2 0 "
     ]
    }
   ],
   "source": [
    "l.traverse_from_tail()"
   ]
  },
  {
   "cell_type": "code",
   "execution_count": 7,
   "id": "d47beb5b",
   "metadata": {},
   "outputs": [],
   "source": [
    "l.insert_from_middle(0.5,0)"
   ]
  },
  {
   "cell_type": "code",
   "execution_count": 8,
   "id": "25955b48",
   "metadata": {},
   "outputs": [
    {
     "data": {
      "text/plain": [
       "12"
      ]
     },
     "execution_count": 8,
     "metadata": {},
     "output_type": "execute_result"
    }
   ],
   "source": [
    "l.n"
   ]
  },
  {
   "cell_type": "code",
   "execution_count": 9,
   "id": "02125fa0",
   "metadata": {},
   "outputs": [
    {
     "name": "stdout",
     "output_type": "stream",
     "text": [
      "0\n"
     ]
    }
   ],
   "source": [
    "l.delete_head()"
   ]
  },
  {
   "cell_type": "code",
   "execution_count": 10,
   "id": "c2c77a62",
   "metadata": {},
   "outputs": [
    {
     "data": {
      "text/plain": [
       "11"
      ]
     },
     "execution_count": 10,
     "metadata": {},
     "output_type": "execute_result"
    }
   ],
   "source": [
    "l.n"
   ]
  },
  {
   "cell_type": "code",
   "execution_count": 11,
   "id": "4e937877",
   "metadata": {},
   "outputs": [
    {
     "name": "stdout",
     "output_type": "stream",
     "text": [
      "0.5 2 11 3 6 8 9 10 111 11 11 "
     ]
    }
   ],
   "source": [
    "l.traverse_from_head()"
   ]
  },
  {
   "cell_type": "code",
   "execution_count": 12,
   "id": "13d0e72d",
   "metadata": {},
   "outputs": [
    {
     "name": "stdout",
     "output_type": "stream",
     "text": [
      "11 11 111 10 9 8 6 3 11 2 0.5 "
     ]
    }
   ],
   "source": [
    "l.traverse_from_tail()"
   ]
  },
  {
   "cell_type": "code",
   "execution_count": 13,
   "id": "c4d03385",
   "metadata": {},
   "outputs": [],
   "source": [
    "l.delete_tail()"
   ]
  },
  {
   "cell_type": "code",
   "execution_count": 14,
   "id": "8bafabdd",
   "metadata": {},
   "outputs": [
    {
     "data": {
      "text/plain": [
       "10"
      ]
     },
     "execution_count": 14,
     "metadata": {},
     "output_type": "execute_result"
    }
   ],
   "source": [
    "l.n"
   ]
  },
  {
   "cell_type": "code",
   "execution_count": 15,
   "id": "e56e7a2e",
   "metadata": {},
   "outputs": [
    {
     "name": "stdout",
     "output_type": "stream",
     "text": [
      "0.5 2 11 3 6 8 9 10 111 11 "
     ]
    }
   ],
   "source": [
    "l.traverse_from_head()"
   ]
  },
  {
   "cell_type": "code",
   "execution_count": 16,
   "id": "ff7a6131",
   "metadata": {},
   "outputs": [
    {
     "name": "stdout",
     "output_type": "stream",
     "text": [
      "11 111 10 9 8 6 3 11 2 0.5 "
     ]
    }
   ],
   "source": [
    "l.traverse_from_tail()"
   ]
  },
  {
   "cell_type": "code",
   "execution_count": 17,
   "id": "5744f1a9",
   "metadata": {},
   "outputs": [],
   "source": [
    "l.delete_by_value_all(11)"
   ]
  },
  {
   "cell_type": "code",
   "execution_count": 18,
   "id": "59a91d6e",
   "metadata": {},
   "outputs": [
    {
     "name": "stdout",
     "output_type": "stream",
     "text": [
      "0.5 2 3 6 8 9 10 111 "
     ]
    }
   ],
   "source": [
    "l.traverse_from_head()"
   ]
  },
  {
   "cell_type": "code",
   "execution_count": 19,
   "id": "f892a886",
   "metadata": {},
   "outputs": [
    {
     "name": "stdout",
     "output_type": "stream",
     "text": [
      "111 10 9 8 6 3 2 0.5 "
     ]
    }
   ],
   "source": [
    "l.traverse_from_tail()"
   ]
  },
  {
   "cell_type": "code",
   "execution_count": 20,
   "id": "ef2f4517",
   "metadata": {},
   "outputs": [
    {
     "data": {
      "text/plain": [
       "8"
      ]
     },
     "execution_count": 20,
     "metadata": {},
     "output_type": "execute_result"
    }
   ],
   "source": [
    "l.n"
   ]
  },
  {
   "cell_type": "code",
   "execution_count": 21,
   "id": "11cb95bf",
   "metadata": {},
   "outputs": [
    {
     "data": {
      "text/plain": [
       "9"
      ]
     },
     "execution_count": 21,
     "metadata": {},
     "output_type": "execute_result"
    }
   ],
   "source": [
    "l.search_by_index(5)"
   ]
  },
  {
   "cell_type": "code",
   "execution_count": 22,
   "id": "fc634eaf",
   "metadata": {},
   "outputs": [
    {
     "data": {
      "text/plain": [
       "'not found'"
      ]
     },
     "execution_count": 22,
     "metadata": {},
     "output_type": "execute_result"
    }
   ],
   "source": [
    "l.serch_by_value(11)"
   ]
  },
  {
   "cell_type": "code",
   "execution_count": 23,
   "id": "087b4289",
   "metadata": {},
   "outputs": [
    {
     "data": {
      "text/plain": [
       "111"
      ]
     },
     "execution_count": 23,
     "metadata": {},
     "output_type": "execute_result"
    }
   ],
   "source": [
    "l.max_number()"
   ]
  },
  {
   "cell_type": "code",
   "execution_count": 24,
   "id": "199cdbfd",
   "metadata": {},
   "outputs": [
    {
     "name": "stdout",
     "output_type": "stream",
     "text": [
      "0.5 2 3 6 8 9 10 111 "
     ]
    }
   ],
   "source": [
    "l.traverse_from_head()"
   ]
  },
  {
   "cell_type": "code",
   "execution_count": 25,
   "id": "d02052df",
   "metadata": {},
   "outputs": [],
   "source": [
    "l.replace_max(123)"
   ]
  },
  {
   "cell_type": "code",
   "execution_count": 26,
   "id": "257cc392",
   "metadata": {},
   "outputs": [
    {
     "name": "stdout",
     "output_type": "stream",
     "text": [
      "0.5 2 3 6 8 9 10 123 "
     ]
    }
   ],
   "source": [
    "l.traverse_from_head()"
   ]
  },
  {
   "cell_type": "code",
   "execution_count": 27,
   "id": "dfb821c1",
   "metadata": {},
   "outputs": [
    {
     "data": {
      "text/plain": [
       "8"
      ]
     },
     "execution_count": 27,
     "metadata": {},
     "output_type": "execute_result"
    }
   ],
   "source": [
    "l.size()"
   ]
  },
  {
   "cell_type": "code",
   "execution_count": 28,
   "id": "6a722296",
   "metadata": {},
   "outputs": [
    {
     "data": {
      "text/plain": [
       "140"
      ]
     },
     "execution_count": 28,
     "metadata": {},
     "output_type": "execute_result"
    }
   ],
   "source": [
    "l.sum_odd_nodes()"
   ]
  },
  {
   "cell_type": "code",
   "execution_count": 29,
   "id": "98d8fc97",
   "metadata": {},
   "outputs": [
    {
     "name": "stdout",
     "output_type": "stream",
     "text": [
      "123 10 9 8 6 3 2 0.5 "
     ]
    }
   ],
   "source": [
    "l.traverse_from_tail()"
   ]
  },
  {
   "cell_type": "code",
   "execution_count": 281,
   "id": "7c32fd27",
   "metadata": {},
   "outputs": [],
   "source": [
    "#dictionary using array\n",
    "#linear probing\n",
    "class Dictionary():\n",
    "    def __init__(self,size):\n",
    "        self.size=size\n",
    "        self.slots=[None]*self.size\n",
    "        self.data=[None]*self.size\n",
    "    \n",
    "    def hash_(self,key):\n",
    "        return abs(hash(key))%self.size\n",
    "    def rehash_(self,oldhash):\n",
    "        return (oldhash+1)%self.size\n",
    "    \n",
    "    def put(self,key,value):\n",
    "        hashvalue=self.hash_(key)\n",
    "        if self.slots[hashvalue]==None:\n",
    "            self.slots[hashvalue]=key\n",
    "            self.data[hashvalue]=value\n",
    "        elif  self.slots[hashvalue]==key:\n",
    "            self.data[hashvalue]=value\n",
    "        else:\n",
    "            newhashvalue=self.rehash_(hashvalue)\n",
    "            while self.slots[newhashvalue]!=None and self.slots[newhashvalue]!=key:\n",
    "                newhashvalue=self.rehash_(newhashvalue)\n",
    "                if hashvalue==newhashvalue:\n",
    "                    return \"not enough space\"\n",
    "            if self.slots[newhashvalue]==key:\n",
    "                self.data[newhashvalue]=value\n",
    "            elif self.slots[newhashvalue]==None:\n",
    "                self.slots[newhashvalue]=key\n",
    "                self.data[newhashvalue]=value\n",
    "    \n",
    "    \n",
    "                 \n",
    "    def get(self,key):\n",
    "        start_position=self.hash_(key)\n",
    "        current_position=start_position\n",
    "        \n",
    "        while self.slots[current_position]!=None:\n",
    "            if self.slots[current_position]==key:\n",
    "                return self.data[current_position]\n",
    "            current_position=self.rehash_(current_position)\n",
    "            if current_position==start_position:\n",
    "                return \"notfound\"\n",
    "        return \"non wala notfound\"\n",
    "        \n",
    "    def __setitem__(self,key,value):\n",
    "        return self.put(key,value)\n",
    "        \n",
    "    def __getitem__(self,key):\n",
    "        return self.get(key)   \n",
    "    def __str__(self):\n",
    "        for i in range(self.size):\n",
    "            if self.slots[i]!=None:\n",
    "                print(self.slots[i],\":\",self.data[i],\"  \", end=\"\")\n",
    "        return \"\""
   ]
  },
  {
   "cell_type": "code",
   "execution_count": 282,
   "id": "76d5daee",
   "metadata": {},
   "outputs": [],
   "source": [
    "D=Dictionary(4)"
   ]
  },
  {
   "cell_type": "code",
   "execution_count": 283,
   "id": "d3f6169c",
   "metadata": {},
   "outputs": [
    {
     "data": {
      "text/plain": [
       "[None, None, None, None]"
      ]
     },
     "execution_count": 283,
     "metadata": {},
     "output_type": "execute_result"
    }
   ],
   "source": [
    "D.slots"
   ]
  },
  {
   "cell_type": "code",
   "execution_count": 284,
   "id": "13b9d835",
   "metadata": {},
   "outputs": [
    {
     "data": {
      "text/plain": [
       "[None, None, None, None]"
      ]
     },
     "execution_count": 284,
     "metadata": {},
     "output_type": "execute_result"
    }
   ],
   "source": [
    "D.data"
   ]
  },
  {
   "cell_type": "code",
   "execution_count": 285,
   "id": "839ebd3e",
   "metadata": {},
   "outputs": [
    {
     "data": {
      "text/plain": [
       "4"
      ]
     },
     "execution_count": 285,
     "metadata": {},
     "output_type": "execute_result"
    }
   ],
   "source": [
    "D.size"
   ]
  },
  {
   "cell_type": "code",
   "execution_count": 286,
   "id": "c427f5e1",
   "metadata": {},
   "outputs": [],
   "source": [
    "D.put(\"f\",500)"
   ]
  },
  {
   "cell_type": "code",
   "execution_count": 287,
   "id": "f0db5f40",
   "metadata": {},
   "outputs": [
    {
     "data": {
      "text/plain": [
       "['f', None, None, None]"
      ]
     },
     "execution_count": 287,
     "metadata": {},
     "output_type": "execute_result"
    }
   ],
   "source": [
    "D.slots"
   ]
  },
  {
   "cell_type": "code",
   "execution_count": 288,
   "id": "210036b2",
   "metadata": {},
   "outputs": [
    {
     "data": {
      "text/plain": [
       "[500, None, None, None]"
      ]
     },
     "execution_count": 288,
     "metadata": {},
     "output_type": "execute_result"
    }
   ],
   "source": [
    "D.data"
   ]
  },
  {
   "cell_type": "code",
   "execution_count": 289,
   "id": "7ed64b69",
   "metadata": {},
   "outputs": [],
   "source": [
    "D.put(\"c\",10350)"
   ]
  },
  {
   "cell_type": "code",
   "execution_count": 290,
   "id": "7f224f36",
   "metadata": {},
   "outputs": [
    {
     "data": {
      "text/plain": [
       "['f', 'c', None, None]"
      ]
     },
     "execution_count": 290,
     "metadata": {},
     "output_type": "execute_result"
    }
   ],
   "source": [
    "D.slots"
   ]
  },
  {
   "cell_type": "code",
   "execution_count": 291,
   "id": "fc34f420",
   "metadata": {},
   "outputs": [
    {
     "data": {
      "text/plain": [
       "[500, 10350, None, None]"
      ]
     },
     "execution_count": 291,
     "metadata": {},
     "output_type": "execute_result"
    }
   ],
   "source": [
    "D.data"
   ]
  },
  {
   "cell_type": "code",
   "execution_count": 292,
   "id": "764b8782",
   "metadata": {},
   "outputs": [],
   "source": [
    "D.put(\"n\",10)"
   ]
  },
  {
   "cell_type": "code",
   "execution_count": 293,
   "id": "d155d629",
   "metadata": {},
   "outputs": [
    {
     "data": {
      "text/plain": [
       "4"
      ]
     },
     "execution_count": 293,
     "metadata": {},
     "output_type": "execute_result"
    }
   ],
   "source": [
    "len(D.slots)"
   ]
  },
  {
   "cell_type": "code",
   "execution_count": 294,
   "id": "2d1666e0",
   "metadata": {},
   "outputs": [
    {
     "data": {
      "text/plain": [
       "[500, 10350, 10, None]"
      ]
     },
     "execution_count": 294,
     "metadata": {},
     "output_type": "execute_result"
    }
   ],
   "source": [
    "D.data"
   ]
  },
  {
   "cell_type": "code",
   "execution_count": 295,
   "id": "ce6e2500",
   "metadata": {},
   "outputs": [
    {
     "name": "stdout",
     "output_type": "stream",
     "text": [
      "f : 500   c : 10350   n : 10   \n"
     ]
    }
   ],
   "source": [
    "print(D)"
   ]
  },
  {
   "cell_type": "code",
   "execution_count": 296,
   "id": "3be827e2",
   "metadata": {},
   "outputs": [
    {
     "data": {
      "text/plain": [
       "['f', 'c', 'n', None]"
      ]
     },
     "execution_count": 296,
     "metadata": {},
     "output_type": "execute_result"
    }
   ],
   "source": [
    "D.slots"
   ]
  },
  {
   "cell_type": "code",
   "execution_count": 297,
   "id": "410d5f8b",
   "metadata": {},
   "outputs": [
    {
     "data": {
      "text/plain": [
       "'non wala notfound'"
      ]
     },
     "execution_count": 297,
     "metadata": {},
     "output_type": "execute_result"
    }
   ],
   "source": [
    "D.get(\"p\")"
   ]
  },
  {
   "cell_type": "code",
   "execution_count": 298,
   "id": "df21caef",
   "metadata": {},
   "outputs": [
    {
     "data": {
      "text/plain": [
       "'non wala notfound'"
      ]
     },
     "execution_count": 298,
     "metadata": {},
     "output_type": "execute_result"
    }
   ],
   "source": [
    "D[\"m\"]"
   ]
  },
  {
   "cell_type": "code",
   "execution_count": 299,
   "id": "397ae5e1",
   "metadata": {},
   "outputs": [],
   "source": [
    "D[\"a\"]=23"
   ]
  },
  {
   "cell_type": "code",
   "execution_count": 147,
   "id": "b0ec6f4e",
   "metadata": {},
   "outputs": [
    {
     "data": {
      "text/plain": [
       "'notfound'"
      ]
     },
     "execution_count": 147,
     "metadata": {},
     "output_type": "execute_result"
    }
   ],
   "source": [
    "D[\"b\"]"
   ]
  },
  {
   "cell_type": "code",
   "execution_count": 137,
   "id": "8b0be963",
   "metadata": {},
   "outputs": [
    {
     "name": "stdout",
     "output_type": "stream",
     "text": [
      "-5568035178014025999\n"
     ]
    },
    {
     "data": {
      "text/plain": [
       "-8210471209639925793"
      ]
     },
     "execution_count": 137,
     "metadata": {},
     "output_type": "execute_result"
    }
   ],
   "source": [
    "a=0\n",
    "for i in \"bharwa\":\n",
    "    a=a+hash(i)\n",
    "print(a)\n",
    "hash(\"bharwa\")"
   ]
  },
  {
   "cell_type": "code",
   "execution_count": 196,
   "id": "8290c397",
   "metadata": {},
   "outputs": [
    {
     "data": {
      "text/plain": [
       "0"
      ]
     },
     "execution_count": 196,
     "metadata": {},
     "output_type": "execute_result"
    }
   ],
   "source": [
    "hash(\"n\")%4"
   ]
  },
  {
   "cell_type": "code",
   "execution_count": 38,
   "id": "45848f41",
   "metadata": {},
   "outputs": [],
   "source": [
    "l=[1,2,3]"
   ]
  },
  {
   "cell_type": "code",
   "execution_count": 41,
   "id": "01077415",
   "metadata": {},
   "outputs": [],
   "source": [
    "l[2]=1"
   ]
  },
  {
   "cell_type": "code",
   "execution_count": 42,
   "id": "c3db5268",
   "metadata": {},
   "outputs": [
    {
     "data": {
      "text/plain": [
       "[1, 2, 1]"
      ]
     },
     "execution_count": 42,
     "metadata": {},
     "output_type": "execute_result"
    }
   ],
   "source": [
    "l"
   ]
  },
  {
   "cell_type": "code",
   "execution_count": 1,
   "id": "a4ff5026",
   "metadata": {},
   "outputs": [],
   "source": [
    "class Node():\n",
    "    def __init__(self,key,value):\n",
    "        self.data=value\n",
    "        self.key=key\n",
    "        self.next=None\n",
    "        self.prev=None"
   ]
  },
  {
   "cell_type": "code",
   "execution_count": 2,
   "id": "ae8fa5a2",
   "metadata": {},
   "outputs": [],
   "source": [
    "#dictionary by linked list\n",
    "class L_Dictionary():\n",
    "    def __init__(self):\n",
    "        self.head=None\n",
    "        self.tail=None\n",
    "        self.n=0\n",
    "        \n",
    "    def insert_from_head(self,key,value):\n",
    "        self.n+=1\n",
    "        if self.head==None:\n",
    "            NN=Node(key,value)\n",
    "            self.head=NN\n",
    "            self.tail=self.head\n",
    "        else:\n",
    "            NN=Node(key,value)\n",
    "            NN.next=self.head\n",
    "            self.head.prev=NN\n",
    "            self.head=NN\n",
    "    def __setitem__(self,key,value):\n",
    "        return self.insert_from_head(key,value)\n",
    "    \n",
    "    \n",
    "    def insert_from_tail(self,key,value):\n",
    "        self.n+=1\n",
    "        if self.head==None:\n",
    "            NN=Node(key,value)\n",
    "            self.head=NN\n",
    "            self.tail=self.head\n",
    "        else:\n",
    "#             temp=self.head\n",
    "#             while temp.next!=None:\n",
    "#                 temp=temp.next\n",
    "#             NN=Node(value)\n",
    "#             temp.next=NN\n",
    "            NN=Node(key,value)\n",
    "            self.tail.next=NN\n",
    "            NN.prev=self.tail\n",
    "            self.tail=NN\n",
    "    def insert_from_middle(self,key,value,index):\n",
    "        \n",
    "        if index==self.n-1:\n",
    "            self.insert_from_tail(key,value)\n",
    "        elif index<self.n:\n",
    "            self.n+=1\n",
    "            temp=self.head\n",
    "            for i in range(index):\n",
    "                temp=temp.next\n",
    "\n",
    "            NN=Node(key,value)\n",
    "            NN.next=temp.next\n",
    "            temp.next.prev=NN\n",
    "            temp.next=NN\n",
    "            NN.prev=temp\n",
    "        else:\n",
    "            return\"index not found\"\n",
    "    \n",
    "    \n",
    "    def traverse_from_head(self):\n",
    "        if self.head==None:\n",
    "            return \"empty list\"\n",
    "        else:\n",
    "            temp=self.head\n",
    "            while temp!=None:\n",
    "                print(temp.key,\":\",temp.data,\" \",end=\" \")\n",
    "                temp=temp.next\n",
    "    def traverse_from_tail(self):\n",
    "        if self.head==None:\n",
    "            return \"empty list\"\n",
    "        else:\n",
    "            temp=self.tail\n",
    "            while temp!=None:\n",
    "                print(temp.key,\":\",temp.data,\" \",end=\" \")\n",
    "                temp=temp.prev\n",
    "                \n",
    "    def size(self):\n",
    "        return self.n\n",
    "    \n",
    "    def delete_head(self):\n",
    "        if self.head==None:\n",
    "            return \"empty list\"\n",
    "        elif self.head.next==None:\n",
    "            self.n-=1\n",
    "            print(self.head.data)\n",
    "            self.head=None\n",
    "            self.tail=None\n",
    "        else:\n",
    "            self.n-=1\n",
    "            print(self.head.data)\n",
    "            self.head=self.head.next\n",
    "            self.head.prev=None\n",
    "            \n",
    "    def delete_tail(self):\n",
    "        if self.head==None:\n",
    "            return \"empty list\"\n",
    "        if self.n==1:\n",
    "            self.delete_head()\n",
    "        else:\n",
    "#             temp=self.head\n",
    "#             while temp.next.next!=None: #     for i in range(self.n-2):\n",
    "#                 temp=temp.next\n",
    "#             print(temp.next.data)\n",
    "#             temp.next=None\n",
    "            self.tail=self.tail.prev\n",
    "            self.tail.next=None\n",
    "            self.n-=1\n",
    "            \n",
    "            \n",
    "    def delete_by_value(self,key):\n",
    "        if self.head.key==key:\n",
    "            self.delete_head()\n",
    "            return\n",
    "        elif self.tail.key==key:\n",
    "            self.delete_tail()\n",
    "            return\n",
    "        if self.head==None:\n",
    "            return\"empty list\"\n",
    "        temp=self.head\n",
    "        while temp.next!=None:\n",
    "            if temp.next.key==key:\n",
    "                break\n",
    "            temp=temp.next\n",
    "        if temp.next==None:\n",
    "            return\"value not found\"\n",
    "        else:\n",
    "            temp.next=temp.next.next\n",
    "            temp.next.prev=temp\n",
    "            self.n-=1\n",
    "\n",
    "    def delete_by_value_all(self,key):\n",
    "        if self.head==None:\n",
    "            return \"empty list\"\n",
    "        else:\n",
    "            temp=self.head\n",
    "            c=0\n",
    "            while temp!=None:\n",
    "                if temp.key==key:\n",
    "                    c+=1\n",
    "                temp=temp.next\n",
    "                \n",
    "            for i in range(c):\n",
    "                self.delete_by_value(key)\n",
    "                \n",
    "                \n",
    "#     def search_by_index(self,index):\n",
    "#         if self.head==None:\n",
    "#             return\"empty list\"\n",
    "#         else:\n",
    "#             temp=self.head\n",
    "#             for i in range(index):\n",
    "#                 temp=temp.next\n",
    "#                 if temp==None:\n",
    "#                     break\n",
    "#             if temp==None:\n",
    "#                 return \"not found\"\n",
    "#             else:\n",
    "#                 return temp.data\n",
    "#     def __getitem__(self,index):\n",
    "#         return self.search_by_index(index)\n",
    "    \n",
    "    \n",
    "    def search(self,key):\n",
    "        if self.head==None:\n",
    "            return\"empty list\"\n",
    "        else:\n",
    "            c=0\n",
    "            temp=self.head\n",
    "            while temp!=None:\n",
    "                if temp.key==key:\n",
    "                    break\n",
    "                temp=temp.next\n",
    "                c+=1\n",
    "            if temp==None:\n",
    "                return \"not found\"\n",
    "            else:\n",
    "                return temp.data\n",
    "    def __getitem__(self,key):\n",
    "        return self.search(key)\n",
    "#     def max_number(self):\n",
    "#         if self.head==None:\n",
    "#             return \"empty list\"\n",
    "#         else:\n",
    "#             temp=self.head\n",
    "#             a=temp.data\n",
    "#             while temp.next!=None:\n",
    "#                 if a<temp.next.data:\n",
    "#                     a=temp.next.data\n",
    "                \n",
    "#                 temp=temp.next\n",
    "#             return a\n",
    "#     def replace_max(self,value):\n",
    "#         if self.head==None:\n",
    "#             return \"empty list\"\n",
    "#         else:\n",
    "#             temp=self.head\n",
    "#             a=temp\n",
    "#             while temp.next!=None:\n",
    "#                 if a.data<temp.next.data:\n",
    "#                     a=temp.next\n",
    "#                 temp=temp.next\n",
    "#             b=self.serch_by_value(a.data)\n",
    "#             self.insert_from_middle(value,b)\n",
    "#             self.delete_by_value(a.data)\n",
    "    \n",
    "#     def sum_odd_nodes(self):\n",
    "#         if self.head==None or self.head.next==None:\n",
    "#             return \"not possible\"\n",
    "#         else:\n",
    "#             temp=self.head\n",
    "#             a=0\n",
    "#             c=0\n",
    "#             while temp!=None:\n",
    "#                 if c%2!=0:\n",
    "#                     a+=temp.data\n",
    "#                 temp=temp.next\n",
    "#                 c+=1\n",
    "#             return a"
   ]
  },
  {
   "cell_type": "code",
   "execution_count": 3,
   "id": "5d2a2c26",
   "metadata": {},
   "outputs": [],
   "source": [
    "d1=L_Dictionary()"
   ]
  },
  {
   "cell_type": "code",
   "execution_count": 4,
   "id": "160348e3",
   "metadata": {},
   "outputs": [],
   "source": [
    "d1.insert_from_head(\"umer\",2.3)"
   ]
  },
  {
   "cell_type": "code",
   "execution_count": 5,
   "id": "e1256848",
   "metadata": {},
   "outputs": [],
   "source": [
    "d1.insert_from_tail(\"monis\",0.8)"
   ]
  },
  {
   "cell_type": "code",
   "execution_count": 6,
   "id": "ab5670e3",
   "metadata": {},
   "outputs": [],
   "source": [
    "d1.insert_from_head(\"parra\",0.5)"
   ]
  },
  {
   "cell_type": "code",
   "execution_count": 7,
   "id": "1b881020",
   "metadata": {},
   "outputs": [],
   "source": [
    "d1.insert_from_middle(\"afghan\",1.8,0)"
   ]
  },
  {
   "cell_type": "code",
   "execution_count": 8,
   "id": "c97e87e1",
   "metadata": {},
   "outputs": [],
   "source": [
    "d1.insert_from_middle(\"areb\",3.8,3)"
   ]
  },
  {
   "cell_type": "code",
   "execution_count": 15,
   "id": "f09cedad",
   "metadata": {},
   "outputs": [
    {
     "name": "stdout",
     "output_type": "stream",
     "text": [
      "parra : 0.5   afghan : 1.8   umer : 2.3   monis : 0.8   areb : 3.8   "
     ]
    }
   ],
   "source": [
    "d1.traverse_from_head()"
   ]
  },
  {
   "cell_type": "code",
   "execution_count": 16,
   "id": "099a13d1",
   "metadata": {},
   "outputs": [
    {
     "name": "stdout",
     "output_type": "stream",
     "text": [
      "areb : 3.8   monis : 0.8   umer : 2.3   afghan : 1.8   parra : 0.5   "
     ]
    }
   ],
   "source": [
    "d1.traverse_from_tail()"
   ]
  },
  {
   "cell_type": "code",
   "execution_count": 11,
   "id": "31432301",
   "metadata": {},
   "outputs": [
    {
     "data": {
      "text/plain": [
       "'not found'"
      ]
     },
     "execution_count": 11,
     "metadata": {},
     "output_type": "execute_result"
    }
   ],
   "source": [
    "d1.search(\"tarib\")"
   ]
  },
  {
   "cell_type": "code",
   "execution_count": 12,
   "id": "9b0c7453",
   "metadata": {},
   "outputs": [
    {
     "data": {
      "text/plain": [
       "2.3"
      ]
     },
     "execution_count": 12,
     "metadata": {},
     "output_type": "execute_result"
    }
   ],
   "source": [
    "d1.search(\"umer\")"
   ]
  },
  {
   "cell_type": "code",
   "execution_count": 13,
   "id": "744f71fa",
   "metadata": {},
   "outputs": [
    {
     "data": {
      "text/plain": [
       "0.8"
      ]
     },
     "execution_count": 13,
     "metadata": {},
     "output_type": "execute_result"
    }
   ],
   "source": [
    "d1[\"monis\"]"
   ]
  },
  {
   "cell_type": "code",
   "execution_count": 17,
   "id": "2f383e9f",
   "metadata": {},
   "outputs": [],
   "source": [
    "d1[\"cod\"]=3.5"
   ]
  },
  {
   "cell_type": "code",
   "execution_count": 21,
   "id": "43674b47",
   "metadata": {},
   "outputs": [
    {
     "name": "stdout",
     "output_type": "stream",
     "text": [
      "parra : 0.5   afghan : 1.8   umer : 2.3   monis : 0.8   areb : 3.8   "
     ]
    }
   ],
   "source": [
    "d1.traverse_from_head()"
   ]
  },
  {
   "cell_type": "code",
   "execution_count": 22,
   "id": "6340a88d",
   "metadata": {},
   "outputs": [
    {
     "name": "stdout",
     "output_type": "stream",
     "text": [
      "areb : 3.8   monis : 0.8   umer : 2.3   afghan : 1.8   parra : 0.5   "
     ]
    }
   ],
   "source": [
    "d1.traverse_from_tail()"
   ]
  },
  {
   "cell_type": "code",
   "execution_count": 20,
   "id": "acbbbc31",
   "metadata": {},
   "outputs": [
    {
     "name": "stdout",
     "output_type": "stream",
     "text": [
      "3.5\n"
     ]
    }
   ],
   "source": [
    "d1.delete_by_value(\"cod\")"
   ]
  },
  {
   "cell_type": "code",
   "execution_count": 67,
   "id": "14d747a1",
   "metadata": {},
   "outputs": [],
   "source": [
    "class Node():\n",
    "    def __init__(self,value):\n",
    "        self.data=value\n",
    "        self.next=None\n",
    "        self.prev=None"
   ]
  },
  {
   "cell_type": "code",
   "execution_count": 130,
   "id": "7b34e8cd",
   "metadata": {},
   "outputs": [],
   "source": [
    "\n",
    "class circular_Linkedlist():\n",
    "    def __init__(self):\n",
    "        self.head=None\n",
    "        self.tail=None\n",
    "        self.n=0\n",
    "        \n",
    "    def insert_from_head(self,value):\n",
    "        self.n+=1\n",
    "        if self.head==None:\n",
    "            NN=Node(value)\n",
    "            self.head=NN\n",
    "            self.tail=self.head\n",
    "        else:\n",
    "            NN=Node(value)\n",
    "            NN.next=self.head\n",
    "            self.head.prev=NN\n",
    "            self.head=NN\n",
    "            self.tail.next=self.head\n",
    "            self.head.prev=self.tail\n",
    "    \n",
    "    \n",
    "    def insert_from_tail(self,value):\n",
    "        self.n+=1\n",
    "        if self.head==None:\n",
    "            NN=Node(value)\n",
    "            self.head=NN\n",
    "            self.tail=self.head\n",
    "        else:\n",
    "            NN=Node(value)\n",
    "            self.tail.next=NN\n",
    "            NN.prev=self.tail\n",
    "            self.tail=NN\n",
    "            self.tail.next=self.head\n",
    "            self.head.prev=self.tail\n",
    "    \n",
    "    \n",
    "    def insert_from_middle(self,value,index):\n",
    "\n",
    "        \n",
    "        if index==self.n-1:\n",
    "            self.insert_from_tail(value)\n",
    "        elif index<self.n:\n",
    "            self.n+=1\n",
    "            temp=self.head\n",
    "            for i in range(index):\n",
    "                temp=temp.next\n",
    "\n",
    "            NN=Node(value)\n",
    "            NN.next=temp.next\n",
    "            temp.next.prev=NN\n",
    "            temp.next=NN\n",
    "            NN.prev=temp\n",
    "        else:\n",
    "            return\"index not found\"\n",
    "    \n",
    "    \n",
    "    def traverse_from_head(self):\n",
    "        if self.head==None:\n",
    "            return \"empty list\"\n",
    "        else:\n",
    "            temp=self.head\n",
    "            while temp!=None:\n",
    "                print(temp.data,end=\" \")\n",
    "                temp=temp.next\n",
    "                if temp==self.head:\n",
    "                    break\n",
    "\n",
    "    def traverse_from_tail(self):\n",
    "        if self.head==None:\n",
    "            return \"empty list\"\n",
    "        else:\n",
    "            temp=self.tail\n",
    "            while temp!=None:\n",
    "                print(temp.data,end=\" \")\n",
    "                temp=temp.prev\n",
    "                if temp==self.tail:\n",
    "                    break\n",
    "    def size(self):\n",
    "        return self.n\n",
    "    \n",
    "    def delete_head(self):\n",
    "        if self.head==None:\n",
    "            return \"empty list\"\n",
    "        elif self.head.next==None:\n",
    "            self.n-=1\n",
    "            print(self.head.data)\n",
    "            self.head=None\n",
    "            self.tail=None\n",
    "        else:\n",
    "            self.n-=1\n",
    "            print(self.head.data)\n",
    "            self.head=self.head.next\n",
    "            self.head.prev=self.tail\n",
    "            self.tail.next=self.head\n",
    "            \n",
    "    def delete_tail(self):\n",
    "        if self.head==None:\n",
    "            return \"empty list\"\n",
    "        if self.n==1:\n",
    "            self.delete_head()\n",
    "        else:\n",
    "#             temp=self.head\n",
    "#             while temp.next.next!=None: #     for i in range(self.n-2):\n",
    "#                 temp=temp.next\n",
    "#             print(temp.next.data)\n",
    "#             temp.next=None\n",
    "            self.tail=self.tail.prev\n",
    "            self.tail.next=self.head\n",
    "            self.head.prev=self.tail\n",
    "            self.n-=1\n",
    "            \n",
    "            \n",
    "    def delete_by_value(self,value):\n",
    "        if self.head.data==value:\n",
    "            self.delete_head()\n",
    "            return\n",
    "        elif self.tail.data==value:\n",
    "            self.delete_tail()\n",
    "            return\n",
    "        if self.head==None:\n",
    "            return\"empty list\"\n",
    "        temp=self.head\n",
    "        while temp.next!=None:\n",
    "            if temp.next.data==value:\n",
    "                break\n",
    "            temp=temp.next\n",
    "        if temp.next==None:\n",
    "            return\"value not found\"\n",
    "        else:\n",
    "            temp.next=temp.next.next\n",
    "            temp.next.prev=temp\n",
    "            self.n-=1\n",
    "\n",
    "    def delete_by_value_all(self,value):\n",
    "        if self.head==None:\n",
    "            return \"empty list\"\n",
    "        else:\n",
    "            temp=self.head\n",
    "            c=0\n",
    "            while temp!=None:\n",
    "                if temp.data==value:\n",
    "                    c+=1\n",
    "                temp=temp.next\n",
    "                \n",
    "            for i in range(c):\n",
    "                self.delete_by_value(value)\n",
    "                \n",
    "                \n",
    "    def search_by_index(self,index):\n",
    "        if self.head==None:\n",
    "            return\"empty list\"\n",
    "        else:\n",
    "            temp=self.head\n",
    "            for i in range(index):\n",
    "                temp=temp.next\n",
    "                if temp==None:\n",
    "                    break\n",
    "            if temp==None:\n",
    "                return \"not found\"\n",
    "            else:\n",
    "                return temp.data\n",
    "    def __getitem__(self,index):\n",
    "        return self.search_by_index(index)\n",
    "    \n",
    "    \n",
    "    def serch_by_value(self,value):\n",
    "        if self.head==None:\n",
    "            return\"empty list\"\n",
    "        else:\n",
    "            c=0\n",
    "            temp=self.head\n",
    "            while temp!=None:\n",
    "                if temp.data==value:\n",
    "                    break\n",
    "                temp=temp.next\n",
    "                c+=1\n",
    "            if temp==None:\n",
    "                return \"not found\"\n",
    "            else:\n",
    "                return c\n",
    "    def max_number(self):\n",
    "        if self.head==None:\n",
    "            return \"empty list\"\n",
    "        else:\n",
    "            temp=self.head\n",
    "            a=temp.data\n",
    "            while temp.next!=None:\n",
    "                if a<temp.next.data:\n",
    "                    a=temp.next.data\n",
    "                \n",
    "                temp=temp.next\n",
    "            return a\n",
    "    def replace_max(self,value):\n",
    "        if self.head==None:\n",
    "            return \"empty list\"\n",
    "        else:\n",
    "            temp=self.head\n",
    "            a=temp\n",
    "            while temp.next!=None:\n",
    "                if a.data<temp.next.data:\n",
    "                    a=temp.next\n",
    "                temp=temp.next\n",
    "            b=self.serch_by_value(a.data)\n",
    "            self.insert_from_middle(value,b)\n",
    "            self.delete_by_value(a.data)\n",
    "    \n",
    "    def sum_odd_nodes(self):\n",
    "        if self.head==None or self.head.next==None:\n",
    "            return \"not possible\"\n",
    "        else:\n",
    "            temp=self.head\n",
    "            a=0\n",
    "            c=0\n",
    "            while temp!=None:\n",
    "                if c%2!=0:\n",
    "                    a+=temp.data\n",
    "                temp=temp.next\n",
    "                c+=1\n",
    "            return a\n",
    "#     def inplace_reversal(self):\n",
    "#         if self.head==None or self.head.next==None:\n",
    "#             return \"only one node\"\n",
    "#         else:\n",
    "#             prev_node=None\n",
    "#             curr_node=self.head\n",
    "#             while curr_node!=None:\n",
    "#                 next_node=curr_node.next\n",
    "#                 curr_node.next=prev_node\n",
    "#                 prev_node=curr_node\n",
    "#                 curr_node=next_node\n",
    "#             self.head=prev_node\n",
    "#     def stringcompiler(self):\n",
    "#         temp=self.head\n",
    "#         while temp!=None:\n",
    "            \n",
    "#             if temp.data==\"*\" or temp.data==\"/\":\n",
    "#                 temp.data=' '\n",
    "#                 if temp.next.data==\"*\"  or temp.next.data==\"/\":\n",
    "#                     temp.next.next.data=chr(ord(temp.next.next.data)-32)\n",
    "#                     temp.next=temp.next.next\n",
    "                    \n",
    "                \n",
    "                    \n",
    "#             temp=temp.next"
   ]
  },
  {
   "cell_type": "code",
   "execution_count": 132,
   "id": "47be3d61",
   "metadata": {},
   "outputs": [],
   "source": [
    "crll=circular_Linkedlist()"
   ]
  },
  {
   "cell_type": "code",
   "execution_count": 133,
   "id": "2b85b409",
   "metadata": {},
   "outputs": [],
   "source": [
    "for i in range(10,0,-1):\n",
    "    crll.insert_from_head(i)\n",
    "\n",
    "for i in range(11,20):\n",
    "    crll.insert_from_tail(i)\n"
   ]
  },
  {
   "cell_type": "code",
   "execution_count": 134,
   "id": "a5b12cd7",
   "metadata": {},
   "outputs": [
    {
     "data": {
      "text/plain": [
       "19"
      ]
     },
     "execution_count": 134,
     "metadata": {},
     "output_type": "execute_result"
    }
   ],
   "source": [
    "crll.n"
   ]
  },
  {
   "cell_type": "code",
   "execution_count": 135,
   "id": "0b156c16",
   "metadata": {},
   "outputs": [
    {
     "data": {
      "text/plain": [
       "1"
      ]
     },
     "execution_count": 135,
     "metadata": {},
     "output_type": "execute_result"
    }
   ],
   "source": [
    "crll.head.data"
   ]
  },
  {
   "cell_type": "code",
   "execution_count": 136,
   "id": "ad13a305",
   "metadata": {},
   "outputs": [
    {
     "data": {
      "text/plain": [
       "19"
      ]
     },
     "execution_count": 136,
     "metadata": {},
     "output_type": "execute_result"
    }
   ],
   "source": [
    "crll.head.prev.data"
   ]
  },
  {
   "cell_type": "code",
   "execution_count": 137,
   "id": "71a93f20",
   "metadata": {},
   "outputs": [
    {
     "data": {
      "text/plain": [
       "19"
      ]
     },
     "execution_count": 137,
     "metadata": {},
     "output_type": "execute_result"
    }
   ],
   "source": [
    "crll.tail.data"
   ]
  },
  {
   "cell_type": "code",
   "execution_count": 138,
   "id": "d51e25f9",
   "metadata": {},
   "outputs": [
    {
     "data": {
      "text/plain": [
       "1"
      ]
     },
     "execution_count": 138,
     "metadata": {},
     "output_type": "execute_result"
    }
   ],
   "source": [
    "crll.tail.next.data"
   ]
  },
  {
   "cell_type": "code",
   "execution_count": 139,
   "id": "f3f8a058",
   "metadata": {},
   "outputs": [
    {
     "name": "stdout",
     "output_type": "stream",
     "text": [
      "1 2 3 4 5 6 7 8 9 10 11 12 13 14 15 16 17 18 19 "
     ]
    }
   ],
   "source": [
    "crll.traverse_from_head()"
   ]
  },
  {
   "cell_type": "code",
   "execution_count": 140,
   "id": "2e3cddbb",
   "metadata": {},
   "outputs": [
    {
     "name": "stdout",
     "output_type": "stream",
     "text": [
      "19 18 17 16 15 14 13 12 11 10 9 8 7 6 5 4 3 2 1 "
     ]
    }
   ],
   "source": [
    "crll.traverse_from_tail()"
   ]
  },
  {
   "cell_type": "code",
   "execution_count": 141,
   "id": "4d933781",
   "metadata": {},
   "outputs": [],
   "source": [
    "crll.insert_from_middle(1.5,0)"
   ]
  },
  {
   "cell_type": "code",
   "execution_count": 142,
   "id": "07c8d7d1",
   "metadata": {},
   "outputs": [
    {
     "data": {
      "text/plain": [
       "20"
      ]
     },
     "execution_count": 142,
     "metadata": {},
     "output_type": "execute_result"
    }
   ],
   "source": [
    "crll.n"
   ]
  },
  {
   "cell_type": "code",
   "execution_count": 143,
   "id": "552faa03",
   "metadata": {},
   "outputs": [
    {
     "data": {
      "text/plain": [
       "1"
      ]
     },
     "execution_count": 143,
     "metadata": {},
     "output_type": "execute_result"
    }
   ],
   "source": [
    "crll.head.data"
   ]
  },
  {
   "cell_type": "code",
   "execution_count": 144,
   "id": "354f59de",
   "metadata": {},
   "outputs": [
    {
     "data": {
      "text/plain": [
       "19"
      ]
     },
     "execution_count": 144,
     "metadata": {},
     "output_type": "execute_result"
    }
   ],
   "source": [
    "crll.head.prev.data"
   ]
  },
  {
   "cell_type": "code",
   "execution_count": 145,
   "id": "7b60c1ae",
   "metadata": {},
   "outputs": [
    {
     "data": {
      "text/plain": [
       "19"
      ]
     },
     "execution_count": 145,
     "metadata": {},
     "output_type": "execute_result"
    }
   ],
   "source": [
    "crll.tail.data"
   ]
  },
  {
   "cell_type": "code",
   "execution_count": 146,
   "id": "9bf1f5a9",
   "metadata": {},
   "outputs": [
    {
     "data": {
      "text/plain": [
       "1"
      ]
     },
     "execution_count": 146,
     "metadata": {},
     "output_type": "execute_result"
    }
   ],
   "source": [
    "crll.tail.next.data"
   ]
  },
  {
   "cell_type": "code",
   "execution_count": 147,
   "id": "e1bab4bd",
   "metadata": {},
   "outputs": [
    {
     "name": "stdout",
     "output_type": "stream",
     "text": [
      "1 1.5 2 3 4 5 6 7 8 9 10 11 12 13 14 15 16 17 18 19 "
     ]
    }
   ],
   "source": [
    "crll.traverse_from_head()"
   ]
  },
  {
   "cell_type": "code",
   "execution_count": 148,
   "id": "79671f46",
   "metadata": {},
   "outputs": [
    {
     "name": "stdout",
     "output_type": "stream",
     "text": [
      "19 18 17 16 15 14 13 12 11 10 9 8 7 6 5 4 3 2 1.5 1 "
     ]
    }
   ],
   "source": [
    "crll.traverse_from_tail()"
   ]
  },
  {
   "cell_type": "code",
   "execution_count": 149,
   "id": "2c974cdf",
   "metadata": {},
   "outputs": [],
   "source": [
    "crll.insert_from_middle(20,19)"
   ]
  },
  {
   "cell_type": "code",
   "execution_count": 150,
   "id": "32c4dc48",
   "metadata": {},
   "outputs": [
    {
     "data": {
      "text/plain": [
       "21"
      ]
     },
     "execution_count": 150,
     "metadata": {},
     "output_type": "execute_result"
    }
   ],
   "source": [
    "crll.n"
   ]
  },
  {
   "cell_type": "code",
   "execution_count": 151,
   "id": "bf38a4e4",
   "metadata": {},
   "outputs": [
    {
     "name": "stdout",
     "output_type": "stream",
     "text": [
      "1 1.5 2 3 4 5 6 7 8 9 10 11 12 13 14 15 16 17 18 19 20 "
     ]
    }
   ],
   "source": [
    "crll.traverse_from_head()"
   ]
  },
  {
   "cell_type": "code",
   "execution_count": 152,
   "id": "1d55bc61",
   "metadata": {},
   "outputs": [
    {
     "name": "stdout",
     "output_type": "stream",
     "text": [
      "20 19 18 17 16 15 14 13 12 11 10 9 8 7 6 5 4 3 2 1.5 1 "
     ]
    }
   ],
   "source": [
    "crll.traverse_from_tail()"
   ]
  },
  {
   "cell_type": "code",
   "execution_count": null,
   "id": "78aba24f",
   "metadata": {},
   "outputs": [],
   "source": []
  }
 ],
 "metadata": {
  "kernelspec": {
   "display_name": "Python 3 (ipykernel)",
   "language": "python",
   "name": "python3"
  },
  "language_info": {
   "codemirror_mode": {
    "name": "ipython",
    "version": 3
   },
   "file_extension": ".py",
   "mimetype": "text/x-python",
   "name": "python",
   "nbconvert_exporter": "python",
   "pygments_lexer": "ipython3",
   "version": "3.11.3"
  }
 },
 "nbformat": 4,
 "nbformat_minor": 5
}
