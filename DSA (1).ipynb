{
 "cells": [
  {
   "cell_type": "code",
   "execution_count": 1,
   "id": "7e3caf6a",
   "metadata": {
    "collapsed": true,
    "scrolled": true
   },
   "outputs": [],
   "source": [
    "def selct_sort(A):\n",
    "    n=len(A)\n",
    "    for i in range(0,n-1):\n",
    "        mini=i\n",
    "        for j in range(i+1,n):\n",
    "            if A[j]<A[mini]:\n",
    "                mini=j\n",
    "        b=A[i]\n",
    "        A[i]=A[mini]\n",
    "        A[mini]=b\n",
    "        return A"
   ]
  },
  {
   "cell_type": "code",
   "execution_count": 2,
   "id": "5f6b5884",
   "metadata": {
    "collapsed": true,
    "scrolled": true
   },
   "outputs": [
    {
     "data": {
      "text/plain": [
       "[1, 5, 4, 3, 2, 9]"
      ]
     },
     "execution_count": 2,
     "metadata": {},
     "output_type": "execute_result"
    }
   ],
   "source": [
    "selct_sort([9,5,4,3,2,1])"
   ]
  },
  {
   "cell_type": "code",
   "execution_count": 3,
   "id": "ef85aa55",
   "metadata": {
    "collapsed": true,
    "scrolled": true
   },
   "outputs": [
    {
     "data": {
      "text/plain": [
       "6"
      ]
     },
     "execution_count": 3,
     "metadata": {},
     "output_type": "execute_result"
    }
   ],
   "source": [
    "len([9,5,4,3,2,1])"
   ]
  },
  {
   "cell_type": "code",
   "execution_count": 4,
   "id": "571bb245",
   "metadata": {
    "collapsed": true,
    "scrolled": true
   },
   "outputs": [
    {
     "ename": "NameError",
     "evalue": "name 'a' is not defined",
     "output_type": "error",
     "traceback": [
      "\u001b[1;31m---------------------------------------------------------------------------\u001b[0m",
      "\u001b[1;31mNameError\u001b[0m                                 Traceback (most recent call last)",
      "Input \u001b[1;32mIn [4]\u001b[0m, in \u001b[0;36m<cell line: 1>\u001b[1;34m()\u001b[0m\n\u001b[1;32m----> 1\u001b[0m \u001b[43ma\u001b[49m[\u001b[38;5;241m0\u001b[39m]\n",
      "\u001b[1;31mNameError\u001b[0m: name 'a' is not defined"
     ]
    }
   ],
   "source": [
    "a[0]"
   ]
  },
  {
   "cell_type": "code",
   "execution_count": null,
   "id": "b823c7ba",
   "metadata": {
    "collapsed": true,
    "scrolled": true
   },
   "outputs": [],
   "source": []
  },
  {
   "cell_type": "code",
   "execution_count": null,
   "id": "678ad089",
   "metadata": {
    "collapsed": true,
    "scrolled": true
   },
   "outputs": [],
   "source": [
    "def fib(n):\n",
    "    if n==0 or n==1:\n",
    "        return 1\n",
    "    else:\n",
    "        return n+fib(n-1)"
   ]
  },
  {
   "cell_type": "code",
   "execution_count": null,
   "id": "40c64d5a",
   "metadata": {
    "collapsed": true,
    "scrolled": true
   },
   "outputs": [],
   "source": [
    "fib(5)"
   ]
  },
  {
   "cell_type": "code",
   "execution_count": null,
   "id": "0b611573",
   "metadata": {
    "collapsed": true,
    "scrolled": true
   },
   "outputs": [],
   "source": [
    "fib(6)"
   ]
  },
  {
   "cell_type": "code",
   "execution_count": null,
   "id": "a5900581",
   "metadata": {
    "collapsed": true,
    "scrolled": true
   },
   "outputs": [],
   "source": [
    "def power(num):\n",
    "    if num<1:\n",
    "        return 0\n",
    "    elif num==1:\n",
    "        print(1)\n",
    "        return 1\n",
    "    else:\n",
    "        prev=power(num//2)\n",
    "        cur=prev*2\n",
    "        print(cur)\n",
    "        return cur\n",
    "    \n",
    "    \n",
    "    \n",
    "power(20)"
   ]
  },
  {
   "cell_type": "code",
   "execution_count": null,
   "id": "34373947",
   "metadata": {
    "collapsed": true,
    "scrolled": true
   },
   "outputs": [],
   "source": [
    "15//2"
   ]
  },
  {
   "cell_type": "code",
   "execution_count": null,
   "id": "bdcabf51",
   "metadata": {
    "collapsed": true,
    "scrolled": true
   },
   "outputs": [],
   "source": [
    "7//2"
   ]
  },
  {
   "cell_type": "code",
   "execution_count": null,
   "id": "39263d15",
   "metadata": {
    "collapsed": true,
    "scrolled": true
   },
   "outputs": [],
   "source": [
    "3//2"
   ]
  },
  {
   "cell_type": "code",
   "execution_count": null,
   "id": "f8600130",
   "metadata": {
    "collapsed": true,
    "scrolled": true
   },
   "outputs": [],
   "source": [
    "import sys\n",
    "l=[]\n",
    "for i in range(100):\n",
    "    print(i,sys.getsizeof(l))\n",
    "    l.append(i)"
   ]
  },
  {
   "cell_type": "code",
   "execution_count": null,
   "id": "a3e20aca",
   "metadata": {
    "collapsed": true,
    "scrolled": true
   },
   "outputs": [],
   "source": [
    "class Node:\n",
    "    def __init__(self,value):\n",
    "        self.data=value\n",
    "        self.next=None"
   ]
  },
  {
   "cell_type": "code",
   "execution_count": null,
   "id": "88a367a2",
   "metadata": {
    "collapsed": true,
    "scrolled": true
   },
   "outputs": [],
   "source": [
    "class stack:\n",
    "    def __init__(self):\n",
    "        self.top=None\n",
    "        self.n=0\n",
    "        \n",
    "    def isempty(self):\n",
    "        return self.top==None\n",
    "    \n",
    "    def push(self,value):\n",
    "        new_node=Node(value)\n",
    "        new_node.next=self.top\n",
    "        self.top=new_node\n",
    "        self.n+=1\n",
    "        \n",
    "    def traverse(self):\n",
    "        if (self.isempty()):\n",
    "            return \"empty stack\"\n",
    "        else:\n",
    "            temp=self.top\n",
    "            while temp!=None:\n",
    "                print(temp.data)\n",
    "                temp=temp.next\n",
    "            \n",
    "    def peek(self):\n",
    "        if (self.isempty()):\n",
    "            return \"empty stack\"\n",
    "        else:\n",
    "            return self.top.data\n",
    "            \n",
    "    def pop(self):\n",
    "        if (self.isempty()):\n",
    "            return \"empty stack\"\n",
    "        else:\n",
    "#             print(self.top.data)\n",
    "            self.top=self.top.next\n",
    "            self.n-=1\n",
    "            \n",
    "    def size(self):\n",
    "        if (self.isempty()):\n",
    "            return \"empty stack\"\n",
    "        else:\n",
    "#             count=0\n",
    "#             temp=self.top\n",
    "#             while temp!=None:\n",
    "#                 count+=1\n",
    "#                 temp=temp.next\n",
    "            return  self.n #count\n",
    "        \n",
    "    def index_of(self,value):\n",
    "        if (self.isempty()):\n",
    "            return \"empty stack\"\n",
    "        else:\n",
    "            b=0\n",
    "            temp=self.top\n",
    "            while temp!=None:\n",
    "                b+=1\n",
    "                if temp.data==value:\n",
    "                    return self.n-b\n",
    "                temp=temp.next\n",
    "            \n",
    "    def index(self,value):\n",
    "        if (self.isempty()):\n",
    "            return \"empty stack\"\n",
    "        else:\n",
    "            for i in range(1,self.n-value):\n",
    "                self.top=self.top.next\n",
    "            print(self.top.data)\n",
    "          \n",
    "    def clear(self):\n",
    "        if (self.isempty()):\n",
    "            return \"empty stack\"\n",
    "        else:\n",
    "            self.top\n",
    "            while self.top!=None:\n",
    "                self.top=self.top.next\n",
    "            \n",
    "        \n",
    "        "
   ]
  },
  {
   "cell_type": "code",
   "execution_count": null,
   "id": "3e32ba80",
   "metadata": {
    "collapsed": true,
    "scrolled": true
   },
   "outputs": [],
   "source": [
    "a=stack()\n",
    "a.push(5)\n",
    "a.push(9)\n",
    "a.push(3)\n",
    "a.push(13)\n",
    "a.push(31)\n",
    "a.push(23)\n",
    "a.traverse()"
   ]
  },
  {
   "cell_type": "code",
   "execution_count": null,
   "id": "e5751c11",
   "metadata": {
    "collapsed": true,
    "scrolled": true
   },
   "outputs": [],
   "source": [
    "a.index(2)"
   ]
  },
  {
   "cell_type": "code",
   "execution_count": null,
   "id": "8f83cc47",
   "metadata": {
    "collapsed": true,
    "scrolled": true
   },
   "outputs": [],
   "source": [
    "a.pop()"
   ]
  },
  {
   "cell_type": "code",
   "execution_count": null,
   "id": "03132fcb",
   "metadata": {
    "collapsed": true,
    "scrolled": true
   },
   "outputs": [],
   "source": [
    "a.traverse()"
   ]
  },
  {
   "cell_type": "code",
   "execution_count": null,
   "id": "7ac7e977",
   "metadata": {
    "collapsed": true,
    "scrolled": true
   },
   "outputs": [],
   "source": [
    "# sting reversal code\n",
    "def strrever(text):\n",
    "    a=stack()\n",
    "    res=\"\"\n",
    "    for i in text:\n",
    "        a.push(i)\n",
    "        res=a.pop() + res\n",
    "    print(res)\n",
    "\n"
   ]
  },
  {
   "cell_type": "code",
   "execution_count": null,
   "id": "0edc66ae",
   "metadata": {
    "collapsed": true,
    "scrolled": true
   },
   "outputs": [],
   "source": [
    "strrever(\"hello\")"
   ]
  },
  {
   "cell_type": "code",
   "execution_count": null,
   "id": "60b7f081",
   "metadata": {
    "collapsed": true,
    "scrolled": true
   },
   "outputs": [],
   "source": [
    "a.index_of(32)"
   ]
  },
  {
   "cell_type": "code",
   "execution_count": null,
   "id": "9f82cd2a",
   "metadata": {
    "collapsed": true,
    "scrolled": true
   },
   "outputs": [],
   "source": [
    "a.pop()"
   ]
  },
  {
   "cell_type": "code",
   "execution_count": null,
   "id": "bea441ef",
   "metadata": {
    "collapsed": true,
    "scrolled": true
   },
   "outputs": [],
   "source": [
    "a.top.data"
   ]
  },
  {
   "cell_type": "code",
   "execution_count": null,
   "id": "7eb4e53b",
   "metadata": {
    "collapsed": true,
    "scrolled": true
   },
   "outputs": [],
   "source": []
  },
  {
   "cell_type": "code",
   "execution_count": null,
   "id": "e34a917c",
   "metadata": {
    "collapsed": true,
    "scrolled": true
   },
   "outputs": [],
   "source": [
    "a.peek()"
   ]
  },
  {
   "cell_type": "code",
   "execution_count": null,
   "id": "07710d85",
   "metadata": {
    "collapsed": true,
    "scrolled": true
   },
   "outputs": [],
   "source": [
    "a.peek()"
   ]
  },
  {
   "cell_type": "code",
   "execution_count": null,
   "id": "9f55b328",
   "metadata": {
    "collapsed": true,
    "scrolled": true
   },
   "outputs": [],
   "source": []
  },
  {
   "cell_type": "code",
   "execution_count": null,
   "id": "cca61f6f",
   "metadata": {
    "collapsed": true,
    "scrolled": true
   },
   "outputs": [],
   "source": [
    "a.top==None"
   ]
  },
  {
   "cell_type": "code",
   "execution_count": null,
   "id": "ff938b19",
   "metadata": {
    "collapsed": true,
    "scrolled": true
   },
   "outputs": [],
   "source": [
    "a.top"
   ]
  },
  {
   "cell_type": "code",
   "execution_count": null,
   "id": "445a897f",
   "metadata": {
    "collapsed": true,
    "scrolled": true
   },
   "outputs": [],
   "source": [
    "a.top.next"
   ]
  },
  {
   "cell_type": "code",
   "execution_count": null,
   "id": "418eb235",
   "metadata": {
    "collapsed": true,
    "scrolled": true
   },
   "outputs": [],
   "source": [
    "a.pop()"
   ]
  },
  {
   "cell_type": "code",
   "execution_count": null,
   "id": "8e08a0e1",
   "metadata": {
    "collapsed": true,
    "scrolled": true
   },
   "outputs": [],
   "source": [
    "a.traverse()"
   ]
  },
  {
   "cell_type": "code",
   "execution_count": null,
   "id": "c8aa8d35",
   "metadata": {
    "collapsed": true,
    "scrolled": true
   },
   "outputs": [],
   "source": [
    "a.peek()"
   ]
  },
  {
   "cell_type": "code",
   "execution_count": null,
   "id": "51fa2cf9",
   "metadata": {
    "collapsed": true,
    "scrolled": true
   },
   "outputs": [],
   "source": [
    "a.pop()"
   ]
  },
  {
   "cell_type": "code",
   "execution_count": null,
   "id": "d04a5f9e",
   "metadata": {
    "collapsed": true,
    "scrolled": true
   },
   "outputs": [],
   "source": [
    "\n",
    "a.peek()"
   ]
  },
  {
   "cell_type": "code",
   "execution_count": null,
   "id": "40d1874c",
   "metadata": {
    "collapsed": true,
    "scrolled": true
   },
   "outputs": [],
   "source": [
    "\n",
    "a.size()"
   ]
  },
  {
   "cell_type": "code",
   "execution_count": null,
   "id": "dbedb7f8",
   "metadata": {
    "collapsed": true,
    "scrolled": true
   },
   "outputs": [],
   "source": [
    "def undo(text):\n",
    "    a=stack()\n",
    "    res=\"\"\n",
    "    for i in text:\n",
    "        a.push(i)\n",
    "    a.pop()\n",
    "    return a.size()\n",
    "    for i in range(4):\n",
    "        res=res str(a.pop())\n",
    "    return  res\n"
   ]
  },
  {
   "cell_type": "code",
   "execution_count": null,
   "id": "7896ca37",
   "metadata": {
    "collapsed": true,
    "scrolled": true
   },
   "outputs": [],
   "source": [
    "undo(\"hello\")"
   ]
  },
  {
   "cell_type": "code",
   "execution_count": null,
   "id": "8439d004",
   "metadata": {
    "collapsed": true,
    "scrolled": true
   },
   "outputs": [],
   "source": [
    "# celebraty problem"
   ]
  },
  {
   "cell_type": "code",
   "execution_count": null,
   "id": "dcb38ad3",
   "metadata": {
    "collapsed": true,
    "scrolled": true
   },
   "outputs": [],
   "source": [
    "def bracket(equation):\n",
    "    a=stack()\n",
    "    for i in equation:\n",
    "        for j in [\"(\",\"{\",\"[\"]:\n",
    "            if i==j:\n",
    "                a.push(i)\n",
    "        for k in [\")\",\"}\",\"]\"]:\n",
    "            if i==k:\n",
    "                if a.size()==0:\n",
    "                    return \"wrong equation\"\n",
    "                elif ord(a.peek())!=1+ord(i) and ord(a.peek())!=2+ord(i):\n",
    "                    return \"wrong equation\"\n",
    "                elif ord(a.peek())==1+ord(i) or ord(a.peek())==2+ord(i):\n",
    "                    a.pop()\n",
    "                \n",
    "                    \n",
    "    if a.size()==0:\n",
    "        return \"right equation\"\n",
    "    elif a.size()!=0:\n",
    "        return \"wrong equation\"\n",
    "                "
   ]
  },
  {
   "cell_type": "code",
   "execution_count": null,
   "id": "d30bac29",
   "metadata": {
    "collapsed": true,
    "scrolled": true
   },
   "outputs": [],
   "source": [
    "bracket(\"[(a+b)(a)]\")"
   ]
  },
  {
   "cell_type": "code",
   "execution_count": null,
   "id": "33bb626c",
   "metadata": {
    "collapsed": true,
    "scrolled": true
   },
   "outputs": [],
   "source": [
    "equation=input(str)\n",
    "for i in equation:\n",
    "        for j in [\"(\",\"{\",\"[\"]:\n",
    "            if i==j:\n",
    "                print(i)"
   ]
  },
  {
   "cell_type": "code",
   "execution_count": null,
   "id": "2e7963c8",
   "metadata": {
    "collapsed": true,
    "scrolled": true
   },
   "outputs": [],
   "source": [
    "class Node:\n",
    "    def __init__(self,value):\n",
    "        self.data=value\n",
    "        self.next=None"
   ]
  },
  {
   "cell_type": "code",
   "execution_count": null,
   "id": "90099820",
   "metadata": {
    "collapsed": true,
    "scrolled": true
   },
   "outputs": [],
   "source": [
    "class Queue():\n",
    "    def __init__(self):\n",
    "        self.head=None\n",
    "        self.tail=None\n",
    "        self.n=0\n",
    "        \n",
    "    def enqueue(self,value):\n",
    "        self.n+=1\n",
    "        if self.head==None:\n",
    "            NN=Node(value)\n",
    "            self.head=NN\n",
    "            self.tail=self.head\n",
    "            \n",
    "        else:\n",
    "            NN=Node(value)\n",
    "            self.tail.next=NN\n",
    "            self.tail=NN\n",
    "            \n",
    "    def dequeue(self):\n",
    "        if self.head==None:\n",
    "            print(\"empty queue\")\n",
    "        \n",
    "        else:\n",
    "            self.n-=1\n",
    "            print(self.head.data)\n",
    "            self.head=self.head.next\n",
    "        \n",
    "    def traverse(self):\n",
    "        if self.head==None:\n",
    "            print(\"empty queue\")\n",
    "        else:\n",
    "            temp=self.head\n",
    "            while temp!=None:\n",
    "                print(temp.data)\n",
    "                temp=temp.next\n",
    "                \n",
    "    def size(self):\n",
    "        return self.n\n",
    "    \n",
    "    def peek(self):\n",
    "        if self.head==None:\n",
    "            print(\"empty queue\")\n",
    "        else:\n",
    "            print(self.head.data)\n",
    "            \n",
    "    def clear(self):\n",
    "        self.n=0\n",
    "        while self.head!=None:\n",
    "            self.head=self.head.next\n",
    "        \n",
    "        "
   ]
  },
  {
   "cell_type": "code",
   "execution_count": null,
   "id": "6bfcb5af",
   "metadata": {
    "collapsed": true,
    "scrolled": true
   },
   "outputs": [],
   "source": [
    "b=Queue()"
   ]
  },
  {
   "cell_type": "code",
   "execution_count": null,
   "id": "8baa3435",
   "metadata": {
    "collapsed": true,
    "scrolled": true
   },
   "outputs": [],
   "source": [
    "b.enqueue(5)\n",
    "b.enqueue(55)\n",
    "b.enqueue(52)\n",
    "b.enqueue(51)\n",
    "b.enqueue(25)\n",
    "b.enqueue(15)"
   ]
  },
  {
   "cell_type": "code",
   "execution_count": null,
   "id": "467ba188",
   "metadata": {
    "collapsed": true,
    "scrolled": true
   },
   "outputs": [],
   "source": [
    "\n",
    "b.traverse()\n",
    "b.size()"
   ]
  },
  {
   "cell_type": "code",
   "execution_count": null,
   "id": "4cb8a99b",
   "metadata": {
    "collapsed": true,
    "scrolled": true
   },
   "outputs": [],
   "source": [
    "b.clear()"
   ]
  },
  {
   "cell_type": "code",
   "execution_count": null,
   "id": "4aab63fc",
   "metadata": {
    "collapsed": true,
    "scrolled": true
   },
   "outputs": [],
   "source": [
    "b.dequeue()"
   ]
  },
  {
   "cell_type": "code",
   "execution_count": null,
   "id": "ae502410",
   "metadata": {
    "collapsed": true,
    "scrolled": true
   },
   "outputs": [],
   "source": [
    "b.peek()"
   ]
  },
  {
   "cell_type": "code",
   "execution_count": null,
   "id": "58b1c924",
   "metadata": {
    "collapsed": true,
    "scrolled": true
   },
   "outputs": [],
   "source": [
    "s1=stack()"
   ]
  },
  {
   "cell_type": "code",
   "execution_count": null,
   "id": "3081a70a",
   "metadata": {
    "collapsed": true,
    "scrolled": true
   },
   "outputs": [],
   "source": [
    "s2=stack()"
   ]
  },
  {
   "cell_type": "code",
   "execution_count": null,
   "id": "4e5073da",
   "metadata": {
    "collapsed": true,
    "scrolled": true
   },
   "outputs": [],
   "source": [
    "id(b.peek())"
   ]
  },
  {
   "cell_type": "code",
   "execution_count": null,
   "id": "3269ad52",
   "metadata": {
    "collapsed": true,
    "scrolled": true
   },
   "outputs": [],
   "source": [
    "id(b.head.next)"
   ]
  },
  {
   "cell_type": "code",
   "execution_count": null,
   "id": "a50d91c7",
   "metadata": {
    "collapsed": true,
    "scrolled": true
   },
   "outputs": [],
   "source": [
    "a=Node(3)\n",
    "b=Node(6)\n",
    "c=Node(7)"
   ]
  },
  {
   "cell_type": "code",
   "execution_count": null,
   "id": "07b2e8f5",
   "metadata": {
    "collapsed": true,
    "scrolled": true
   },
   "outputs": [],
   "source": [
    "a.next"
   ]
  },
  {
   "cell_type": "code",
   "execution_count": null,
   "id": "ef92e110",
   "metadata": {
    "collapsed": true,
    "scrolled": true
   },
   "outputs": [],
   "source": [
    "id(a)"
   ]
  },
  {
   "cell_type": "code",
   "execution_count": null,
   "id": "480a8da0",
   "metadata": {
    "collapsed": true,
    "scrolled": true
   },
   "outputs": [],
   "source": [
    "id(b)"
   ]
  },
  {
   "cell_type": "code",
   "execution_count": null,
   "id": "9941a797",
   "metadata": {
    "collapsed": true,
    "scrolled": true
   },
   "outputs": [],
   "source": [
    "id(c)"
   ]
  },
  {
   "cell_type": "code",
   "execution_count": null,
   "id": "4e5730fe",
   "metadata": {
    "collapsed": true,
    "scrolled": true
   },
   "outputs": [],
   "source": [
    "a.next=b\n",
    "b.next=c"
   ]
  },
  {
   "cell_type": "code",
   "execution_count": null,
   "id": "52795527",
   "metadata": {
    "collapsed": true,
    "scrolled": true
   },
   "outputs": [],
   "source": [
    "id(a)"
   ]
  },
  {
   "cell_type": "code",
   "execution_count": null,
   "id": "3013ca65",
   "metadata": {
    "collapsed": true,
    "scrolled": true
   },
   "outputs": [],
   "source": [
    "id(a.next)"
   ]
  },
  {
   "cell_type": "code",
   "execution_count": null,
   "id": "5b1db6d6",
   "metadata": {
    "collapsed": true,
    "scrolled": true
   },
   "outputs": [],
   "source": [
    "id(b)"
   ]
  },
  {
   "cell_type": "code",
   "execution_count": null,
   "id": "fbf7a9f6",
   "metadata": {
    "collapsed": true,
    "scrolled": true
   },
   "outputs": [],
   "source": [
    "id(b.next)"
   ]
  },
  {
   "cell_type": "code",
   "execution_count": null,
   "id": "d863bcf8",
   "metadata": {
    "collapsed": true,
    "scrolled": true
   },
   "outputs": [],
   "source": [
    "id(c)"
   ]
  },
  {
   "cell_type": "code",
   "execution_count": null,
   "id": "611c196a",
   "metadata": {
    "collapsed": true,
    "scrolled": true
   },
   "outputs": [],
   "source": [
    "id(c.next)"
   ]
  },
  {
   "cell_type": "code",
   "execution_count": 1,
   "id": "24d6afd8",
   "metadata": {
    "collapsed": true,
    "scrolled": true
   },
   "outputs": [],
   "source": [
    "class Node():\n",
    "    def __init__(self,value):\n",
    "        self.data=value\n",
    "        self.next=None\n",
    "    "
   ]
  },
  {
   "cell_type": "code",
   "execution_count": 232,
   "id": "c753cdde",
   "metadata": {
    "scrolled": true
   },
   "outputs": [],
   "source": [
    "class linked_list():\n",
    "    def __init__(self):\n",
    "        self.head=None\n",
    "        self.tail=None\n",
    "        self.n=0\n",
    "        \n",
    "    def insert_from_head(self,value):\n",
    "        self.n+=1\n",
    "        if self.head==None:\n",
    "            NN=Node(value)\n",
    "            self.head=NN\n",
    "            self.tail=self.head\n",
    "        else:\n",
    "            NN=Node(value)\n",
    "            NN.next=self.head\n",
    "            self.head=NN\n",
    "    def insert_from_tail(self,value):\n",
    "        self.n+=1\n",
    "        if self.head==None:\n",
    "            NN=Node(value)\n",
    "            self.head=NN\n",
    "            self.tail=self.head\n",
    "        else:\n",
    "#             temp=self.head\n",
    "#             while temp.next!=None:\n",
    "#                 temp=temp.next\n",
    "#             NN=Node(value)\n",
    "#             temp.next=NN\n",
    "            NN=Node(value)\n",
    "            self.tail.next=NN\n",
    "            self.tail=NN\n",
    "    def insert_from_middle(self,value,index):\n",
    "        if index==self.n-1:\n",
    "            self.insert_from_tail(value)\n",
    "\n",
    "        elif index<self.n:\n",
    "            self.n+=1\n",
    "            temp=self.head\n",
    "            for i in range(index):\n",
    "                temp=temp.next\n",
    "\n",
    "            NN=Node(value)\n",
    "            NN.next=temp.next\n",
    "            temp.next=NN\n",
    "        else:\n",
    "            return\"index not found\"\n",
    "    def traverse(self):\n",
    "        if self.head==None:\n",
    "            return \"empty list\"\n",
    "        else:\n",
    "            temp=self.head\n",
    "            while temp!=None:\n",
    "                print(temp.data,end=\" \")\n",
    "                temp=temp.next\n",
    "                \n",
    "    def size(self):\n",
    "        return self.n\n",
    "    \n",
    "    def delete_head(self):\n",
    "        if self.head==None:\n",
    "            return \"empty list\"\n",
    "        elif self.head.next==None:\n",
    "            self.n-=1\n",
    "            print(self.head.data)\n",
    "            self.head=None\n",
    "            self.tail=None\n",
    "        else:\n",
    "            self.n-=1\n",
    "            print(self.head.data)\n",
    "            self.head=self.head.next\n",
    "            \n",
    "    def delete_tail(self):\n",
    "        if self.head==None:\n",
    "            return \"empty list\"\n",
    "        if self.n==1:\n",
    "            self.delete_head()\n",
    "        else:\n",
    "            temp=self.head\n",
    "            while temp.next.next!=None: #     for i in range(self.n-2):\n",
    "                temp=temp.next\n",
    "            print(temp.next.data)\n",
    "            self.tail=temp\n",
    "            temp.next=None\n",
    "            self.n-=1\n",
    "            \n",
    "    def delete_by_value(self,value):\n",
    "        if self.head.data==value:\n",
    "            self.delete_head()\n",
    "            return\n",
    "        if self.head==None:\n",
    "            return\"empty list\"\n",
    "        temp=self.head\n",
    "        while temp.next!=None:\n",
    "            if temp.next.data==value:\n",
    "                break\n",
    "            temp=temp.next\n",
    "        if temp.next==None:\n",
    "            return\"value not found\"\n",
    "        else:\n",
    "            temp.next=temp.next.next\n",
    "            self.n-=1\n",
    "\n",
    "    def delete_by_value_all(self,value):\n",
    "        if self.head==None:\n",
    "            return \"empty list\"\n",
    "        else:\n",
    "            temp=self.head\n",
    "            c=0\n",
    "            while temp!=None:\n",
    "                if temp.data==value:\n",
    "                    c+=1\n",
    "                temp=temp.next\n",
    "                \n",
    "            for i in range(c):\n",
    "                self.delete_by_value(value)\n",
    "                \n",
    "                \n",
    "    def search_by_index(self,index):\n",
    "        if self.head==None:\n",
    "            return\"empty list\"\n",
    "        else:\n",
    "            temp=self.head\n",
    "            for i in range(index):\n",
    "                temp=temp.next\n",
    "                if temp==None:\n",
    "                    break\n",
    "            if temp==None:\n",
    "                return \"not found\"\n",
    "            else:\n",
    "                return temp.data\n",
    "    def __getitem__(self,index):\n",
    "        return self.search_by_index(index)\n",
    "    \n",
    "    \n",
    "    def serch_by_value(self,value):\n",
    "        if self.head==None:\n",
    "            return\"empty list\"\n",
    "        else:\n",
    "            c=0\n",
    "            temp=self.head\n",
    "            while temp!=None:\n",
    "                if temp.data==value:\n",
    "                    break\n",
    "                temp=temp.next\n",
    "                c+=1\n",
    "            if temp==None:\n",
    "                return \"not found\"\n",
    "            else:\n",
    "                return c\n",
    "    def max_number(self):\n",
    "        if self.head==None:\n",
    "            return \"empty list\"\n",
    "        else:\n",
    "            temp=self.head\n",
    "            a=temp.data\n",
    "            while temp.next!=None:\n",
    "                if a<temp.next.data:\n",
    "                    a=temp.next.data\n",
    "                \n",
    "                temp=temp.next\n",
    "            return a\n",
    "    def replace_max(self,value):\n",
    "        if self.head==None:\n",
    "            return \"empty list\"\n",
    "        else:\n",
    "            temp=self.head\n",
    "            a=temp\n",
    "            while temp.next!=None:\n",
    "                if a.data<temp.next.data:\n",
    "                    a=temp.next\n",
    "                temp=temp.next\n",
    "            b=self.serch_by_value(a.data)\n",
    "            self.insert_from_middle(value,b)\n",
    "            self.delete_by_value(a.data)\n",
    "    def sum_odd_nodes(self):\n",
    "        if self.head==None or self.head.next==None:\n",
    "            return \"not possible\"\n",
    "        else:\n",
    "            temp=self.head\n",
    "            a=0\n",
    "            c=0\n",
    "            while temp!=None:\n",
    "                if c%2!=0:\n",
    "                    a+=temp.data\n",
    "                temp=temp.next\n",
    "                c+=1\n",
    "            return a\n",
    "    def inplace_reversal(self):\n",
    "        if self.head==None or self.head.next==None:\n",
    "            return \"only one node\"\n",
    "        else:\n",
    "            prev_node=None\n",
    "            curr_node=self.head\n",
    "            while curr_node!=None:\n",
    "                next_node=curr_node.next\n",
    "                curr_node.next=prev_node\n",
    "                prev_node=curr_node\n",
    "                curr_node=next_node\n",
    "            self.head=prev_node\n",
    "    def stringcompiler(self):\n",
    "        temp=self.head\n",
    "        while temp!=None:\n",
    "            \n",
    "            if temp.data==\"*\" or temp.data==\"/\":\n",
    "                temp.data=' '\n",
    "                if temp.next.data==\"*\"  or temp.next.data==\"/\":\n",
    "                    temp.next.next.data=chr(ord(temp.next.next.data)-32)\n",
    "                    temp.next=temp.next.next\n",
    "                    \n",
    "                \n",
    "                    \n",
    "            temp=temp.next"
   ]
  },
  {
   "cell_type": "code",
   "execution_count": 233,
   "id": "1895a2e7",
   "metadata": {
    "scrolled": true
   },
   "outputs": [],
   "source": [
    "ll=linked_list()\n",
    "ll.insert_from_head(5)\n",
    "ll.insert_from_tail(7)\n",
    "ll.insert_from_head(8)\n",
    "ll.insert_from_middle(6,2)\n",
    "ll.insert_from_middle(6,2)\n",
    "\n",
    "\n"
   ]
  },
  {
   "cell_type": "code",
   "execution_count": 248,
   "id": "f202908b",
   "metadata": {
    "scrolled": true
   },
   "outputs": [
    {
     "name": "stdout",
     "output_type": "stream",
     "text": [
      "8 5 "
     ]
    }
   ],
   "source": [
    "ll.traverse()"
   ]
  },
  {
   "cell_type": "code",
   "execution_count": 235,
   "id": "36637b9a",
   "metadata": {
    "scrolled": true
   },
   "outputs": [],
   "source": [
    "ll.insert_from_tail(7)"
   ]
  },
  {
   "cell_type": "code",
   "execution_count": 249,
   "id": "de84c4d3",
   "metadata": {
    "scrolled": true
   },
   "outputs": [],
   "source": [
    "ll.delete_by_value(5)"
   ]
  },
  {
   "cell_type": "code",
   "execution_count": 250,
   "id": "f4829c7c",
   "metadata": {
    "scrolled": true
   },
   "outputs": [
    {
     "data": {
      "text/plain": [
       "1"
      ]
     },
     "execution_count": 250,
     "metadata": {},
     "output_type": "execute_result"
    }
   ],
   "source": [
    "ll.n"
   ]
  },
  {
   "cell_type": "code",
   "execution_count": null,
   "id": "b2ba586d",
   "metadata": {
    "collapsed": true,
    "scrolled": true
   },
   "outputs": [],
   "source": [
    "l.traverse()"
   ]
  },
  {
   "cell_type": "code",
   "execution_count": null,
   "id": "c374283a",
   "metadata": {
    "collapsed": true,
    "scrolled": true
   },
   "outputs": [],
   "source": []
  },
  {
   "cell_type": "code",
   "execution_count": null,
   "id": "9607ab1b",
   "metadata": {
    "collapsed": true,
    "scrolled": true
   },
   "outputs": [],
   "source": [
    "l.traverse()"
   ]
  },
  {
   "cell_type": "code",
   "execution_count": null,
   "id": "eb092265",
   "metadata": {
    "collapsed": true,
    "scrolled": true
   },
   "outputs": [],
   "source": [
    "l.insert_from_tail(96)"
   ]
  },
  {
   "cell_type": "code",
   "execution_count": null,
   "id": "328b7262",
   "metadata": {
    "collapsed": true,
    "scrolled": true
   },
   "outputs": [],
   "source": [
    "l.traverse()"
   ]
  },
  {
   "cell_type": "code",
   "execution_count": null,
   "id": "0863fe5e",
   "metadata": {
    "collapsed": true,
    "scrolled": true
   },
   "outputs": [],
   "source": [
    "l.size()"
   ]
  },
  {
   "cell_type": "code",
   "execution_count": null,
   "id": "589b2291",
   "metadata": {
    "collapsed": true,
    "scrolled": true
   },
   "outputs": [],
   "source": [
    "l.insert_from_middle(25,1)"
   ]
  },
  {
   "cell_type": "code",
   "execution_count": null,
   "id": "ec1d528f",
   "metadata": {
    "collapsed": true,
    "scrolled": true
   },
   "outputs": [],
   "source": [
    "l.traverse()"
   ]
  },
  {
   "cell_type": "code",
   "execution_count": null,
   "id": "dbb4f9f2",
   "metadata": {
    "collapsed": true,
    "scrolled": true
   },
   "outputs": [],
   "source": [
    "l.insert_from_middle(2,0)"
   ]
  },
  {
   "cell_type": "code",
   "execution_count": null,
   "id": "1f0af2d8",
   "metadata": {
    "collapsed": true,
    "scrolled": true
   },
   "outputs": [],
   "source": [
    "l.traverse()"
   ]
  },
  {
   "cell_type": "code",
   "execution_count": null,
   "id": "d9cc8849",
   "metadata": {
    "collapsed": true,
    "scrolled": true
   },
   "outputs": [],
   "source": [
    "l.insert_from_middle(3,1)"
   ]
  },
  {
   "cell_type": "code",
   "execution_count": null,
   "id": "e3e54d8d",
   "metadata": {
    "collapsed": true,
    "scrolled": true
   },
   "outputs": [],
   "source": [
    "l.traverse()"
   ]
  },
  {
   "cell_type": "code",
   "execution_count": null,
   "id": "918b8c74",
   "metadata": {
    "collapsed": true,
    "scrolled": true
   },
   "outputs": [],
   "source": [
    "l.insert_from_middle(4,3)"
   ]
  },
  {
   "cell_type": "code",
   "execution_count": null,
   "id": "6812cb52",
   "metadata": {
    "collapsed": true,
    "scrolled": true
   },
   "outputs": [],
   "source": [
    "l.size()"
   ]
  },
  {
   "cell_type": "code",
   "execution_count": null,
   "id": "dc0f71b7",
   "metadata": {
    "collapsed": true,
    "scrolled": true
   },
   "outputs": [],
   "source": [
    "l.traverse()"
   ]
  },
  {
   "cell_type": "code",
   "execution_count": null,
   "id": "7a0bb415",
   "metadata": {
    "collapsed": true,
    "scrolled": true
   },
   "outputs": [],
   "source": [
    "l.delete_head()"
   ]
  },
  {
   "cell_type": "code",
   "execution_count": null,
   "id": "7228123f",
   "metadata": {
    "collapsed": true,
    "scrolled": true
   },
   "outputs": [],
   "source": [
    "l.traverse()"
   ]
  },
  {
   "cell_type": "code",
   "execution_count": null,
   "id": "67ca1243",
   "metadata": {
    "collapsed": true,
    "scrolled": true
   },
   "outputs": [],
   "source": [
    "l.tail.data"
   ]
  },
  {
   "cell_type": "code",
   "execution_count": null,
   "id": "27a969d9",
   "metadata": {
    "collapsed": true,
    "scrolled": true
   },
   "outputs": [],
   "source": [
    "l.serch_by_value(96)"
   ]
  },
  {
   "cell_type": "code",
   "execution_count": null,
   "id": "83ab4915",
   "metadata": {
    "collapsed": true,
    "scrolled": true
   },
   "outputs": [],
   "source": [
    "l.traverse()"
   ]
  },
  {
   "cell_type": "code",
   "execution_count": null,
   "id": "407162e0",
   "metadata": {
    "collapsed": true,
    "scrolled": true
   },
   "outputs": [],
   "source": [
    "l.delete_tail()"
   ]
  },
  {
   "cell_type": "code",
   "execution_count": null,
   "id": "7cb92728",
   "metadata": {
    "collapsed": true,
    "scrolled": true
   },
   "outputs": [],
   "source": [
    "l.traverse()"
   ]
  },
  {
   "cell_type": "code",
   "execution_count": null,
   "id": "e965015d",
   "metadata": {
    "collapsed": true,
    "scrolled": true
   },
   "outputs": [],
   "source": [
    "l.size()"
   ]
  },
  {
   "cell_type": "code",
   "execution_count": null,
   "id": "bd2aae35",
   "metadata": {
    "collapsed": true,
    "scrolled": true
   },
   "outputs": [],
   "source": [
    "l.delete_by_value(3)"
   ]
  },
  {
   "cell_type": "code",
   "execution_count": null,
   "id": "6fa7541f",
   "metadata": {
    "collapsed": true,
    "scrolled": true
   },
   "outputs": [],
   "source": [
    "l.traverse()"
   ]
  },
  {
   "cell_type": "code",
   "execution_count": null,
   "id": "955409b1",
   "metadata": {
    "collapsed": true,
    "scrolled": true
   },
   "outputs": [],
   "source": [
    "\n",
    "l.delete_by_value(1)"
   ]
  },
  {
   "cell_type": "code",
   "execution_count": null,
   "id": "687ae323",
   "metadata": {
    "collapsed": true,
    "scrolled": true
   },
   "outputs": [],
   "source": [
    "l.size()"
   ]
  },
  {
   "cell_type": "code",
   "execution_count": null,
   "id": "28a0f087",
   "metadata": {
    "collapsed": true,
    "scrolled": true
   },
   "outputs": [],
   "source": [
    "l.traverse()"
   ]
  },
  {
   "cell_type": "code",
   "execution_count": 5,
   "id": "c7282622",
   "metadata": {
    "collapsed": true,
    "scrolled": true
   },
   "outputs": [
    {
     "ename": "NameError",
     "evalue": "name 'l' is not defined",
     "output_type": "error",
     "traceback": [
      "\u001b[1;31m---------------------------------------------------------------------------\u001b[0m",
      "\u001b[1;31mNameError\u001b[0m                                 Traceback (most recent call last)",
      "Input \u001b[1;32mIn [5]\u001b[0m, in \u001b[0;36m<cell line: 1>\u001b[1;34m()\u001b[0m\n\u001b[1;32m----> 1\u001b[0m \u001b[43ml\u001b[49m\u001b[38;5;241m.\u001b[39msearch_by_index(\u001b[38;5;241m-\u001b[39m\u001b[38;5;241m6\u001b[39m)\n",
      "\u001b[1;31mNameError\u001b[0m: name 'l' is not defined"
     ]
    }
   ],
   "source": [
    "l.search_by_index(-6)"
   ]
  },
  {
   "cell_type": "code",
   "execution_count": 6,
   "id": "da99637c",
   "metadata": {
    "collapsed": true,
    "scrolled": true
   },
   "outputs": [],
   "source": [
    "def fun(head):\n",
    "    if head==None:\n",
    "        return\n",
    "    if head.next.next!=None:\n",
    "        print(head.data,\"\",end=\"\")\n",
    "        fun(head.next)\n",
    "    print(head.data,\"\",end=\"\")\n",
    "            \n"
   ]
  },
  {
   "cell_type": "code",
   "execution_count": 7,
   "id": "95274276",
   "metadata": {
    "collapsed": true,
    "scrolled": true
   },
   "outputs": [
    {
     "ename": "NameError",
     "evalue": "name 'l' is not defined",
     "output_type": "error",
     "traceback": [
      "\u001b[1;31m---------------------------------------------------------------------------\u001b[0m",
      "\u001b[1;31mNameError\u001b[0m                                 Traceback (most recent call last)",
      "Input \u001b[1;32mIn [7]\u001b[0m, in \u001b[0;36m<cell line: 1>\u001b[1;34m()\u001b[0m\n\u001b[1;32m----> 1\u001b[0m fun(\u001b[43ml\u001b[49m\u001b[38;5;241m.\u001b[39mhead)\n",
      "\u001b[1;31mNameError\u001b[0m: name 'l' is not defined"
     ]
    }
   ],
   "source": [
    "fun(l.head)"
   ]
  },
  {
   "cell_type": "code",
   "execution_count": 8,
   "id": "f402c5b7",
   "metadata": {
    "collapsed": true,
    "scrolled": true
   },
   "outputs": [
    {
     "ename": "NameError",
     "evalue": "name 'l' is not defined",
     "output_type": "error",
     "traceback": [
      "\u001b[1;31m---------------------------------------------------------------------------\u001b[0m",
      "\u001b[1;31mNameError\u001b[0m                                 Traceback (most recent call last)",
      "Input \u001b[1;32mIn [8]\u001b[0m, in \u001b[0;36m<cell line: 1>\u001b[1;34m()\u001b[0m\n\u001b[1;32m----> 1\u001b[0m \u001b[43ml\u001b[49m\u001b[38;5;241m.\u001b[39mtraverse()\n",
      "\u001b[1;31mNameError\u001b[0m: name 'l' is not defined"
     ]
    }
   ],
   "source": [
    "l.traverse()"
   ]
  },
  {
   "cell_type": "code",
   "execution_count": 9,
   "id": "f910accf",
   "metadata": {
    "collapsed": true,
    "scrolled": true
   },
   "outputs": [
    {
     "ename": "NameError",
     "evalue": "name 'l' is not defined",
     "output_type": "error",
     "traceback": [
      "\u001b[1;31m---------------------------------------------------------------------------\u001b[0m",
      "\u001b[1;31mNameError\u001b[0m                                 Traceback (most recent call last)",
      "Input \u001b[1;32mIn [9]\u001b[0m, in \u001b[0;36m<cell line: 1>\u001b[1;34m()\u001b[0m\n\u001b[1;32m----> 1\u001b[0m \u001b[43ml\u001b[49m\u001b[38;5;241m.\u001b[39mmax_number()\n",
      "\u001b[1;31mNameError\u001b[0m: name 'l' is not defined"
     ]
    }
   ],
   "source": [
    "l.max_number()"
   ]
  },
  {
   "cell_type": "code",
   "execution_count": 10,
   "id": "a90e1cbf",
   "metadata": {
    "collapsed": true,
    "scrolled": true
   },
   "outputs": [
    {
     "ename": "NameError",
     "evalue": "name 'l' is not defined",
     "output_type": "error",
     "traceback": [
      "\u001b[1;31m---------------------------------------------------------------------------\u001b[0m",
      "\u001b[1;31mNameError\u001b[0m                                 Traceback (most recent call last)",
      "Input \u001b[1;32mIn [10]\u001b[0m, in \u001b[0;36m<cell line: 1>\u001b[1;34m()\u001b[0m\n\u001b[1;32m----> 1\u001b[0m \u001b[43ml\u001b[49m\u001b[38;5;241m.\u001b[39mreplace_max(\u001b[38;5;241m80\u001b[39m)\n",
      "\u001b[1;31mNameError\u001b[0m: name 'l' is not defined"
     ]
    }
   ],
   "source": [
    "l.replace_max(80)"
   ]
  },
  {
   "cell_type": "code",
   "execution_count": 11,
   "id": "7d053679",
   "metadata": {
    "collapsed": true,
    "scrolled": true
   },
   "outputs": [
    {
     "ename": "NameError",
     "evalue": "name 'l' is not defined",
     "output_type": "error",
     "traceback": [
      "\u001b[1;31m---------------------------------------------------------------------------\u001b[0m",
      "\u001b[1;31mNameError\u001b[0m                                 Traceback (most recent call last)",
      "Input \u001b[1;32mIn [11]\u001b[0m, in \u001b[0;36m<cell line: 1>\u001b[1;34m()\u001b[0m\n\u001b[1;32m----> 1\u001b[0m \u001b[43ml\u001b[49m\u001b[38;5;241m.\u001b[39minsert_from_head(\u001b[38;5;241m23\u001b[39m)\n",
      "\u001b[1;31mNameError\u001b[0m: name 'l' is not defined"
     ]
    }
   ],
   "source": [
    "l.insert_from_head(23)"
   ]
  },
  {
   "cell_type": "code",
   "execution_count": 12,
   "id": "32f126ac",
   "metadata": {
    "collapsed": true,
    "scrolled": true
   },
   "outputs": [
    {
     "ename": "NameError",
     "evalue": "name 'l' is not defined",
     "output_type": "error",
     "traceback": [
      "\u001b[1;31m---------------------------------------------------------------------------\u001b[0m",
      "\u001b[1;31mNameError\u001b[0m                                 Traceback (most recent call last)",
      "Input \u001b[1;32mIn [12]\u001b[0m, in \u001b[0;36m<cell line: 1>\u001b[1;34m()\u001b[0m\n\u001b[1;32m----> 1\u001b[0m \u001b[43ml\u001b[49m\u001b[38;5;241m.\u001b[39msum_odd_nodes()\n",
      "\u001b[1;31mNameError\u001b[0m: name 'l' is not defined"
     ]
    }
   ],
   "source": [
    "l.sum_odd_nodes()"
   ]
  },
  {
   "cell_type": "code",
   "execution_count": 13,
   "id": "ff493e42",
   "metadata": {
    "collapsed": true,
    "scrolled": true
   },
   "outputs": [
    {
     "ename": "NameError",
     "evalue": "name 'l' is not defined",
     "output_type": "error",
     "traceback": [
      "\u001b[1;31m---------------------------------------------------------------------------\u001b[0m",
      "\u001b[1;31mNameError\u001b[0m                                 Traceback (most recent call last)",
      "Input \u001b[1;32mIn [13]\u001b[0m, in \u001b[0;36m<cell line: 1>\u001b[1;34m()\u001b[0m\n\u001b[1;32m----> 1\u001b[0m \u001b[43ml\u001b[49m\u001b[38;5;241m.\u001b[39mtail\u001b[38;5;241m.\u001b[39mdata\n",
      "\u001b[1;31mNameError\u001b[0m: name 'l' is not defined"
     ]
    }
   ],
   "source": [
    "l.tail.data"
   ]
  },
  {
   "cell_type": "code",
   "execution_count": 14,
   "id": "117992a0",
   "metadata": {
    "collapsed": true,
    "scrolled": true
   },
   "outputs": [
    {
     "ename": "NameError",
     "evalue": "name 'l' is not defined",
     "output_type": "error",
     "traceback": [
      "\u001b[1;31m---------------------------------------------------------------------------\u001b[0m",
      "\u001b[1;31mNameError\u001b[0m                                 Traceback (most recent call last)",
      "Input \u001b[1;32mIn [14]\u001b[0m, in \u001b[0;36m<cell line: 1>\u001b[1;34m()\u001b[0m\n\u001b[1;32m----> 1\u001b[0m \u001b[43ml\u001b[49m\u001b[38;5;241m.\u001b[39minplace_reversal()\n",
      "\u001b[1;31mNameError\u001b[0m: name 'l' is not defined"
     ]
    }
   ],
   "source": [
    "l.inplace_reversal()"
   ]
  },
  {
   "cell_type": "code",
   "execution_count": 15,
   "id": "f2950527",
   "metadata": {
    "collapsed": true,
    "scrolled": true
   },
   "outputs": [
    {
     "ename": "NameError",
     "evalue": "name 'l' is not defined",
     "output_type": "error",
     "traceback": [
      "\u001b[1;31m---------------------------------------------------------------------------\u001b[0m",
      "\u001b[1;31mNameError\u001b[0m                                 Traceback (most recent call last)",
      "Input \u001b[1;32mIn [15]\u001b[0m, in \u001b[0;36m<cell line: 1>\u001b[1;34m()\u001b[0m\n\u001b[1;32m----> 1\u001b[0m \u001b[43ml\u001b[49m\u001b[38;5;241m.\u001b[39mtraverse()\n",
      "\u001b[1;31mNameError\u001b[0m: name 'l' is not defined"
     ]
    }
   ],
   "source": [
    "l.traverse()"
   ]
  },
  {
   "cell_type": "raw",
   "id": "752b15e5",
   "metadata": {},
   "source": []
  },
  {
   "cell_type": "code",
   "execution_count": 57,
   "id": "ff312c2f",
   "metadata": {
    "collapsed": true,
    "scrolled": true
   },
   "outputs": [],
   "source": [
    "ll=linked_list()\n",
    "ll.insert_from_head(5)\n",
    "ll.insert_from_tail(7)\n",
    "ll.insert_from_head(8)\n",
    "ll.insert_from_middle(6,2)\n",
    "ll.insert_from_middle(6,2)"
   ]
  },
  {
   "cell_type": "code",
   "execution_count": 58,
   "id": "73a13242",
   "metadata": {
    "collapsed": true,
    "scrolled": true
   },
   "outputs": [
    {
     "name": "stdout",
     "output_type": "stream",
     "text": [
      "8 5 7 6 6 "
     ]
    }
   ],
   "source": [
    "ll.traverse()"
   ]
  },
  {
   "cell_type": "code",
   "execution_count": 59,
   "id": "e1e6fdb5",
   "metadata": {
    "collapsed": true,
    "scrolled": true
   },
   "outputs": [
    {
     "ename": "AttributeError",
     "evalue": "'NoneType' object has no attribute 'data'",
     "output_type": "error",
     "traceback": [
      "\u001b[1;31m---------------------------------------------------------------------------\u001b[0m",
      "\u001b[1;31mAttributeError\u001b[0m                            Traceback (most recent call last)",
      "Input \u001b[1;32mIn [59]\u001b[0m, in \u001b[0;36m<cell line: 1>\u001b[1;34m()\u001b[0m\n\u001b[1;32m----> 1\u001b[0m \u001b[43mll\u001b[49m\u001b[38;5;241;43m.\u001b[39;49m\u001b[43mdelete_by_value\u001b[49m\u001b[43m(\u001b[49m\u001b[38;5;241;43m6\u001b[39;49m\u001b[43m)\u001b[49m\n",
      "Input \u001b[1;32mIn [53]\u001b[0m, in \u001b[0;36mlinked_list.delete_by_value\u001b[1;34m(self, value)\u001b[0m\n\u001b[0;32m     98\u001b[0m         prev\u001b[38;5;241m=\u001b[39mtemp\n\u001b[0;32m     99\u001b[0m         \u001b[38;5;28mself\u001b[39m\u001b[38;5;241m.\u001b[39mn\u001b[38;5;241m-\u001b[39m\u001b[38;5;241m=\u001b[39m\u001b[38;5;241m1\u001b[39m\n\u001b[1;32m--> 101\u001b[0m     \u001b[38;5;28;01mif\u001b[39;00m \u001b[43mprev\u001b[49m\u001b[38;5;241;43m.\u001b[39;49m\u001b[43mdata\u001b[49m\u001b[38;5;241m!=\u001b[39mvalue:\n\u001b[0;32m    102\u001b[0m         temp\u001b[38;5;241m=\u001b[39mtemp\u001b[38;5;241m.\u001b[39mnext\n\u001b[0;32m    104\u001b[0m \u001b[38;5;28;01mif\u001b[39;00m temp\u001b[38;5;241m.\u001b[39mnext\u001b[38;5;241m==\u001b[39m\u001b[38;5;28;01mNone\u001b[39;00m:\n",
      "\u001b[1;31mAttributeError\u001b[0m: 'NoneType' object has no attribute 'data'"
     ]
    }
   ],
   "source": [
    "ll.delete_by_value(6)"
   ]
  },
  {
   "cell_type": "code",
   "execution_count": 26,
   "id": "4468e12c",
   "metadata": {
    "collapsed": true,
    "scrolled": true
   },
   "outputs": [
    {
     "name": "stdout",
     "output_type": "stream",
     "text": [
      "8 5 7 6 "
     ]
    }
   ],
   "source": [
    "ll.traverse()"
   ]
  },
  {
   "cell_type": "code",
   "execution_count": 20,
   "id": "e326f328",
   "metadata": {
    "collapsed": true,
    "scrolled": true
   },
   "outputs": [
    {
     "ename": "NameError",
     "evalue": "name 'll' is not defined",
     "output_type": "error",
     "traceback": [
      "\u001b[1;31m---------------------------------------------------------------------------\u001b[0m",
      "\u001b[1;31mNameError\u001b[0m                                 Traceback (most recent call last)",
      "Input \u001b[1;32mIn [20]\u001b[0m, in \u001b[0;36m<cell line: 1>\u001b[1;34m()\u001b[0m\n\u001b[1;32m----> 1\u001b[0m \u001b[43mll\u001b[49m\u001b[38;5;241m.\u001b[39mhead\u001b[38;5;241m.\u001b[39mnext\u001b[38;5;241m.\u001b[39mnext\u001b[38;5;241m.\u001b[39mnext\u001b[38;5;241m.\u001b[39mdata\n",
      "\u001b[1;31mNameError\u001b[0m: name 'll' is not defined"
     ]
    }
   ],
   "source": [
    "ll.head.next.next.next.data"
   ]
  },
  {
   "cell_type": "code",
   "execution_count": 40,
   "id": "50699952",
   "metadata": {
    "collapsed": true,
    "scrolled": true
   },
   "outputs": [],
   "source": [
    "new_l=linked_list()\n",
    "new_l.insert_from_tail(\"T\")\n",
    "new_l.insert_from_tail(\"h\")\n",
    "new_l.insert_from_tail(\"e\")\n",
    "new_l.insert_from_tail(\"/\")\n",
    "new_l.insert_from_tail(\"*\")\n",
    "new_l.insert_from_tail(\"s\")\n",
    "new_l.insert_from_tail(\"k\")\n",
    "new_l.insert_from_tail(\"y\")\n",
    "new_l.insert_from_tail(\"*\")\n",
    "new_l.insert_from_tail(\"i\")\n",
    "new_l.insert_from_tail(\"s\")\n",
    "new_l.insert_from_tail(\"/\")\n",
    "new_l.insert_from_tail(\"/\")\n",
    "new_l.insert_from_tail(\"b\")\n",
    "new_l.insert_from_tail(\"l\")\n",
    "new_l.insert_from_tail(\"u\")\n",
    "new_l.insert_from_tail(\"e\")"
   ]
  },
  {
   "cell_type": "code",
   "execution_count": 41,
   "id": "e73f3b0d",
   "metadata": {
    "collapsed": true,
    "scrolled": true
   },
   "outputs": [
    {
     "name": "stdout",
     "output_type": "stream",
     "text": [
      "T h e / * s k y * i s / / b l u e "
     ]
    }
   ],
   "source": [
    "new_l.traverse()"
   ]
  },
  {
   "cell_type": "code",
   "execution_count": 42,
   "id": "6b4d2525",
   "metadata": {
    "collapsed": true,
    "scrolled": true
   },
   "outputs": [],
   "source": [
    "new_l.stringcompiler()"
   ]
  },
  {
   "cell_type": "code",
   "execution_count": 43,
   "id": "a5124955",
   "metadata": {
    "collapsed": true,
    "scrolled": true
   },
   "outputs": [
    {
     "name": "stdout",
     "output_type": "stream",
     "text": [
      "T h e   S k y   i s   B l u e "
     ]
    }
   ],
   "source": [
    "new_l.traverse()"
   ]
  },
  {
   "cell_type": "code",
   "execution_count": 223,
   "id": "5b77c6ee",
   "metadata": {
    "collapsed": true,
    "scrolled": true
   },
   "outputs": [
    {
     "data": {
      "text/plain": [
       "116"
      ]
     },
     "execution_count": 223,
     "metadata": {},
     "output_type": "execute_result"
    }
   ],
   "source": [
    "ord(\"t\")"
   ]
  },
  {
   "cell_type": "code",
   "execution_count": 207,
   "id": "6722fd9c",
   "metadata": {
    "collapsed": true,
    "scrolled": true
   },
   "outputs": [
    {
     "data": {
      "text/plain": [
       "84"
      ]
     },
     "execution_count": 207,
     "metadata": {},
     "output_type": "execute_result"
    }
   ],
   "source": [
    "ord(\"T\")"
   ]
  },
  {
   "cell_type": "code",
   "execution_count": 200,
   "id": "24697146",
   "metadata": {
    "collapsed": true,
    "scrolled": true
   },
   "outputs": [
    {
     "data": {
      "text/plain": [
       "32"
      ]
     },
     "execution_count": 200,
     "metadata": {},
     "output_type": "execute_result"
    }
   ],
   "source": [
    "97-65\n"
   ]
  },
  {
   "cell_type": "code",
   "execution_count": 208,
   "id": "6fcd3f98",
   "metadata": {
    "collapsed": true,
    "scrolled": true
   },
   "outputs": [
    {
     "data": {
      "text/plain": [
       "32"
      ]
     },
     "execution_count": 208,
     "metadata": {},
     "output_type": "execute_result"
    }
   ],
   "source": [
    "116-84"
   ]
  },
  {
   "cell_type": "code",
   "execution_count": 236,
   "id": "c5b08b12",
   "metadata": {
    "collapsed": true,
    "scrolled": true
   },
   "outputs": [
    {
     "name": "stdout",
     "output_type": "stream",
     "text": [
      "s\n"
     ]
    },
    {
     "data": {
      "text/plain": [
       "'S'"
      ]
     },
     "execution_count": 236,
     "metadata": {},
     "output_type": "execute_result"
    }
   ],
   "source": [
    "string=input(str())\n",
    "chr(ord(string)-32)"
   ]
  },
  {
   "cell_type": "code",
   "execution_count": 214,
   "id": "0e92e32d",
   "metadata": {
    "collapsed": true,
    "scrolled": true
   },
   "outputs": [
    {
     "data": {
      "text/plain": [
       "139"
      ]
     },
     "execution_count": 214,
     "metadata": {},
     "output_type": "execute_result"
    }
   ],
   "source": [
    "ord(\"k\")+32"
   ]
  },
  {
   "cell_type": "code",
   "execution_count": 221,
   "id": "580f4468",
   "metadata": {
    "collapsed": true,
    "scrolled": true
   },
   "outputs": [
    {
     "data": {
      "text/plain": [
       "'\\x8b'"
      ]
     },
     "execution_count": 221,
     "metadata": {},
     "output_type": "execute_result"
    }
   ],
   "source": [
    "chr(10732)"
   ]
  },
  {
   "cell_type": "code",
   "execution_count": 257,
   "id": "c25216ec",
   "metadata": {
    "collapsed": true,
    "scrolled": true
   },
   "outputs": [
    {
     "name": "stdout",
     "output_type": "stream",
     "text": [
      "hasan\n"
     ]
    }
   ],
   "source": [
    "a=3\n",
    "if a>5:\n",
    "    print(\"umer\")\n",
    "else:\n",
    "    print(\"hasan\")"
   ]
  },
  {
   "cell_type": "code",
   "execution_count": 5,
   "id": "ead04e9d",
   "metadata": {
    "collapsed": true,
    "scrolled": true
   },
   "outputs": [
    {
     "data": {
      "text/plain": [
       "1"
      ]
     },
     "execution_count": 5,
     "metadata": {},
     "output_type": "execute_result"
    }
   ],
   "source": [
    "1%5"
   ]
  },
  {
   "cell_type": "code",
   "execution_count": 45,
   "id": "0d89e2a9",
   "metadata": {
    "collapsed": true,
    "scrolled": true
   },
   "outputs": [
    {
     "data": {
      "text/plain": [
       "-732631030165606996"
      ]
     },
     "execution_count": 45,
     "metadata": {},
     "output_type": "execute_result"
    }
   ],
   "source": [
    "hash(\"python\")"
   ]
  },
  {
   "cell_type": "code",
   "execution_count": 98,
   "id": "d93b8be3",
   "metadata": {
    "collapsed": true,
    "scrolled": true
   },
   "outputs": [],
   "source": [
    "L=linked_list()"
   ]
  },
  {
   "cell_type": "code",
   "execution_count": 104,
   "id": "58b88fb6",
   "metadata": {
    "collapsed": true,
    "scrolled": true
   },
   "outputs": [],
   "source": [
    "L.insert_from_head(1)"
   ]
  },
  {
   "cell_type": "code",
   "execution_count": 105,
   "id": "f1277176",
   "metadata": {
    "collapsed": true,
    "scrolled": true
   },
   "outputs": [
    {
     "name": "stdout",
     "output_type": "stream",
     "text": [
      "1 5 7 9 3 5 "
     ]
    }
   ],
   "source": [
    "L.traverse()"
   ]
  },
  {
   "cell_type": "code",
   "execution_count": 106,
   "id": "41787b6b",
   "metadata": {
    "collapsed": true,
    "scrolled": true
   },
   "outputs": [
    {
     "data": {
      "text/plain": [
       "(9, 9)"
      ]
     },
     "execution_count": 106,
     "metadata": {},
     "output_type": "execute_result"
    }
   ],
   "source": [
    "L.search_by_index(3),L[3]    #2nd is done by using magic metho"
   ]
  },
  {
   "cell_type": "code",
   "execution_count": 85,
   "id": "3668f47b",
   "metadata": {
    "collapsed": true,
    "scrolled": true
   },
   "outputs": [
    {
     "data": {
      "text/plain": [
       "7"
      ]
     },
     "execution_count": 85,
     "metadata": {},
     "output_type": "execute_result"
    }
   ],
   "source": []
  },
  {
   "cell_type": "code",
   "execution_count": 111,
   "id": "b823cd60",
   "metadata": {
    "scrolled": true
   },
   "outputs": [],
   "source": [
    "class D_Node():\n",
    "    def __init__(self,value):\n",
    "        self.data=value\n",
    "        self.next=None\n",
    "        self.prev=None"
   ]
  },
  {
   "cell_type": "code",
   "execution_count": 112,
   "id": "6fa90948",
   "metadata": {
    "scrolled": true
   },
   "outputs": [],
   "source": [
    "class Doubly_Linked():\n",
    "    def __init__(self):\n",
    "        self.head=None\n",
    "        self.tail=None\n",
    "        self.n=0\n",
    "        \n",
    "    def insert_from_head(self,value):\n",
    "        if self.head==None:\n",
    "            NN=Node(value)\n",
    "            self.head==NN\n",
    "            self.tail=self.head\n",
    "            self.n+=1\n",
    "        else:\n",
    "            NN=Node(value)\n",
    "            NN.next=self.head\n",
    "            self.head.prev=NN\n",
    "            NN=self.head\n",
    "            \n",
    "            \n",
    "            "
   ]
  },
  {
   "cell_type": "code",
   "execution_count": 116,
   "id": "d6e9aabe",
   "metadata": {
    "scrolled": true
   },
   "outputs": [],
   "source": [
    "Dl=Doubly_Linked()"
   ]
  },
  {
   "cell_type": "code",
   "execution_count": 117,
   "id": "2f683833",
   "metadata": {
    "scrolled": true
   },
   "outputs": [],
   "source": [
    "Dl.insert_from_head(5)"
   ]
  },
  {
   "cell_type": "code",
   "execution_count": 118,
   "id": "a288aa22",
   "metadata": {
    "scrolled": true
   },
   "outputs": [
    {
     "data": {
      "text/plain": [
       "True"
      ]
     },
     "execution_count": 118,
     "metadata": {},
     "output_type": "execute_result"
    }
   ],
   "source": [
    "l.head==None"
   ]
  },
  {
   "cell_type": "code",
   "execution_count": 141,
   "id": "53a7371e",
   "metadata": {
    "collapsed": true,
    "scrolled": true
   },
   "outputs": [],
   "source": [
    "# def reverse(self):\n",
    "#     curr=self.head\n",
    "#     prev=None\n",
    "#     while curr!=None:\n",
    "#         next_node=curr.next\n",
    "#         curr.next=prev\n",
    "#         next_node.next=curr\n",
    "#         prev=curr\n",
    "#         curr=next_node\n",
    "#     self.head=prev      for reversing a linked list"
   ]
  },
  {
   "cell_type": "code",
   "execution_count": 110,
   "id": "cdc8a7d0",
   "metadata": {
    "scrolled": true
   },
   "outputs": [
    {
     "name": "stdout",
     "output_type": "stream",
     "text": [
      "umer\n"
     ]
    }
   ],
   "source": [
    "a=7\n",
    "if a==5:\n",
    "    print(a)\n",
    "if a==6:\n",
    "    print(a)\n",
    "elif a!=5 and a!=6:\n",
    "    print(\"umer\")"
   ]
  },
  {
   "cell_type": "code",
   "execution_count": 106,
   "id": "c8a497d1",
   "metadata": {
    "scrolled": true
   },
   "outputs": [
    {
     "name": "stdout",
     "output_type": "stream",
     "text": [
      "0\n",
      "1\n",
      "2\n",
      "3\n",
      "4\n",
      "5\n",
      "5\n"
     ]
    }
   ],
   "source": [
    "for i in range(10):\n",
    "    print(i)\n",
    "    if i==5:\n",
    "        print(i)\n",
    "        break"
   ]
  },
  {
   "cell_type": "code",
   "execution_count": 134,
   "id": "64803991",
   "metadata": {
    "scrolled": true
   },
   "outputs": [
    {
     "name": "stdout",
     "output_type": "stream",
     "text": [
      "2047989016880\n",
      "2047989016912\n",
      "2047989016944\n",
      "2047989016976\n"
     ]
    }
   ],
   "source": [
    "a=[1,2,3,4]\n",
    "for i in a:\n",
    "    print(id(i))"
   ]
  },
  {
   "cell_type": "code",
   "execution_count": 120,
   "id": "6d63f0c1",
   "metadata": {
    "scrolled": true
   },
   "outputs": [
    {
     "data": {
      "text/plain": [
       "2047989016880"
      ]
     },
     "execution_count": 120,
     "metadata": {},
     "output_type": "execute_result"
    }
   ],
   "source": [
    "id(a[0])"
   ]
  },
  {
   "cell_type": "code",
   "execution_count": 121,
   "id": "88c90ae6",
   "metadata": {},
   "outputs": [
    {
     "data": {
      "text/plain": [
       "2047989016912"
      ]
     },
     "execution_count": 121,
     "metadata": {},
     "output_type": "execute_result"
    }
   ],
   "source": [
    "id(a[1])"
   ]
  },
  {
   "cell_type": "code",
   "execution_count": 122,
   "id": "f71eeaf4",
   "metadata": {},
   "outputs": [],
   "source": [
    "ll=linked_list()"
   ]
  },
  {
   "cell_type": "code",
   "execution_count": 142,
   "id": "7e1ae332",
   "metadata": {},
   "outputs": [],
   "source": [
    "ll.insert_from_head(2)"
   ]
  },
  {
   "cell_type": "code",
   "execution_count": 143,
   "id": "ed30cc6f",
   "metadata": {},
   "outputs": [
    {
     "name": "stdout",
     "output_type": "stream",
     "text": [
      "2 2 1 6 4 8 "
     ]
    }
   ],
   "source": [
    "ll.traverse()"
   ]
  },
  {
   "cell_type": "code",
   "execution_count": 145,
   "id": "059e31c9",
   "metadata": {},
   "outputs": [
    {
     "name": "stdout",
     "output_type": "stream",
     "text": [
      "2047989016912\n",
      "2047989016912\n",
      "2047989016880\n",
      "2047989017040\n",
      "2047989016976\n"
     ]
    }
   ],
   "source": [
    "temp=ll.head\n",
    "for i in range(5):\n",
    "    print(id(temp.data))\n",
    "    temp=temp.next"
   ]
  },
  {
   "cell_type": "code",
   "execution_count": null,
   "id": "3cef6175",
   "metadata": {},
   "outputs": [],
   "source": []
  }
 ],
 "metadata": {
  "kernelspec": {
   "display_name": "Python 3 (ipykernel)",
   "language": "python",
   "name": "python3"
  },
  "language_info": {
   "codemirror_mode": {
    "name": "ipython",
    "version": 3
   },
   "file_extension": ".py",
   "mimetype": "text/x-python",
   "name": "python",
   "nbconvert_exporter": "python",
   "pygments_lexer": "ipython3",
   "version": "3.9.12"
  }
 },
 "nbformat": 4,
 "nbformat_minor": 5
}
